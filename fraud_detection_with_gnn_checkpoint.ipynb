{
  "cells": [
    {
      "cell_type": "markdown",
      "metadata": {
        "id": "x0ev5elA69P8"
      },
      "source": [
        "# Fraud Detection Using GNNs"
      ]
    },
    {
      "cell_type": "markdown",
      "metadata": {
        "id": "YLpmbAb069QE"
      },
      "source": [
        "## What is fraud detection ?\n",
        "\n",
        "Fraud detection is the process of identifying and preventing unauthorized activity in organizations. It has become a major challenge for companies in industries such as banking, finance, retail, and e-commerce. Fraud can negatively impact an organization's financial performance and reputation, making it crucial for companies to prevent and predict suspicious activity.\n"
      ]
    },
    {
      "cell_type": "markdown",
      "metadata": {
        "id": "MlotFlGC69QH"
      },
      "source": [
        "\n",
        "## Complex and evolving fraud patterns \n",
        "\n",
        "Fraudsters continually revise their strategies and devise ever-more-sophisticated methods to cheat the system, regularly involving intricate networks of transactions to prevent recognition. Traditional rule-based systems and matrix-based ML such as SVMs and XGBoost often just ponder the immediate edges of a deal (who transferred money to whom), usually omitting to notice fraudulent patterns with more complicated context. Rule-based systems furthermore need to be manually adjusted as fraud patterns shift and new scams arise.\n"
      ]
    },
    {
      "cell_type": "markdown",
      "metadata": {
        "id": "KjjNs1fb69QK"
      },
      "source": [
        "## Label Quality\n",
        "\n",
        "The datasets for fraud detection are commonly unbalanced and incompletely labeled. In reality, only a tiny fraction of people plan to perpetrate fraud. Usually, domain specialists will label transactions as fraudulent or not, but they can't make certain that all fraud has been identified in the dataset.\n",
        "\n",
        "The large disparity between the number of labels and the amount of data available renders it hard to generate supervised models. Models trained on the accessible classifications could have a greater number of false negatives, while the imbalanced dataset could lead to an increase in false positives. Consequently, training Graph Neural Networks (GNNs) with different objectives and making use of their latent representations afterwards can be advantageous.\n"
      ]
    },
    {
      "cell_type": "markdown",
      "metadata": {
        "id": "2ZuDQYYq69QL"
      },
      "source": [
        "## Model explainability \n",
        "\n",
        "Predicting if a transaction is fraudulent or not is inadequate for meeting the transparency standards of the banking sector. It is also essential to comprehend why certain deals are marked as deceitful. This explicability is critical for comprehending how fraud occurs, how to execute procedures to reduce fraud, and to make sure the process isn’t prejudiced. As a result, fraud detection models must be comprehensible and interpretable, which restricts the choices of models that investigators can apply."
      ]
    },
    {
      "cell_type": "markdown",
      "metadata": {
        "id": "grsrOQI_69Qj"
      },
      "source": [
        "## Graph approaches for fraud detection\n",
        "\n",
        "Transactions can be represented as a graph, with users as nodes and interactions between them as edges. Traditional feature-based algorithms such as XGBoost and DLRM analyze individual nodes or edges, while graph-based approaches take into account the local context and structure of the graph, including neighboring nodes and edges.\n",
        "\n",
        "In the traditional graph domain, there are various methods for making predictions based on graph structure, such as statistical approaches that aggregate features from adjacent nodes or edges. Algorithms like the [Louvain method](https://en.wikipedia.org/wiki/Louvain_method) and [InfoMap](https://towardsdatascience.com/infomap-algorithm-9b68b7e8b86) can identify communities and clusters of users on the graph. However, these methods lack the expressivity to fully consider the graph in its original format.\n",
        "\n",
        "Graph neural networks (GNNs) offer a solution by representing local structural and feature context natively within the model. Through aggregation and message passing, information from both edges and nodes is propagated to neighboring nodes. Multiple layers of graph convolution result in a node's state containing information from nodes multiple layers away, effectively allowing the GNN to have a \"receptive field\" of nodes or edges multiple jumps away from the node or edge in question.\n",
        "\n",
        "For fraud detection, GNNs can account for complex or longer chains of transactions that fraudsters use for obfuscation. Additionally, changing patterns can be addressed by retraining the model iteratively."
      ]
    },
    {
      "cell_type": "markdown",
      "metadata": {
        "id": "pS3ItUbK69Ql"
      },
      "source": [
        "## ML for graph \n",
        "\n",
        "These are the general steps of ML on Graph, depending on the task, the methods used in each step may change and not all the steps may be needed.\n",
        "\n",
        "1. Graph Representation: The first step in applying machine learning techniques to graphs is to represent the graph in a format that can be input into a machine learning model. This can be done using various graph representations such as adjacency matrices, adjacency lists, and edge lists.\n",
        "\n",
        "2. Feature Extraction: Once the graph is represented, the next step is to extract features from the graph that can be used as input to a machine learning model. These features can include things like node degree, centrality measures, and graph traversal patterns.\n",
        "\n",
        "3. Dimensionality Reduction: As the number of nodes and edges in a graph can be large, it is often necessary to reduce the dimensionality of the graph representation before applying machine learning techniques. This can be done using techniques like principal component analysis (PCA) and t-SNE.\n",
        "\n",
        "4. Model Selection: After the graph is represented and features have been extracted, the next step is to select a machine learning model that can be applied to the graph data. Common models used for graph data include decision trees, random forests, and neural networks.\n",
        "\n",
        "5. Training and Evaluation: Once the model is selected, it is trained on the graph data using a labeled training dataset. The model is then evaluated on a separate test dataset to assess its performance.\n",
        "\n",
        "6. Predictions: After the model is trained, it can be used to make predictions on new graph data. For example, it can be used to predict the likelihood of a node in a graph being in a certain class or to predict the likelihood of a link between two nodes."
      ]
    },
    {
      "cell_type": "markdown",
      "metadata": {
        "id": "vkP8-u8i69Qm"
      },
      "source": [
        "## Dataset \n",
        "The IBM credit card transaction dataset is a publicly available dataset that contains information about credit card transactions. It is often used for research and testing of fraud detection models. The dataset includes a variety of features such as the amount of the transaction, the type of card used, and the location of the transaction. It also includes a label indicating whether or not the transaction was fraudulent. The dataset is designed to be representative of real-world transactions and therefore contains a certain level of class imbalance, with a higher number of non-fraudulent transactions than fraudulent transactions. The dataset is provided by IBM and the data is simulated, but it is not specified the exact process of data simulation. It is important to note that the data is not real and it is not linked to any real customer or financial institution.\n",
        "\n",
        "The data set contains: \n",
        "* 24 million unique transactions\n",
        "* 6,000 unique merchants\n",
        "* 100,000 unique cards\n",
        "* 30,000 fraudulent samples (0.1% of total transactions)\n",
        "\n",
        "**Where to find the data** \n",
        "* If you are willing to use the data locally you can download it from this [link](https://ibm.ent.box.com/v/tabformer-data)\n",
        "* In our case we will use Kaggle to create our GNN model so we are using the dataset on kaggle, here's the [link](https://www.kaggle.com/datasets/ealtman2019/credit-card-transactions)"
      ]
    },
    {
      "cell_type": "markdown",
      "metadata": {
        "id": "Z7ibPlWi69Qp"
      },
      "source": [
        "## Necessary imports "
      ]
    },
    {
      "cell_type": "code",
      "execution_count": 1,
      "metadata": {
        "execution": {
          "iopub.execute_input": "2023-01-16T21:08:15.682511Z",
          "iopub.status.busy": "2023-01-16T21:08:15.682100Z",
          "iopub.status.idle": "2023-01-16T21:08:15.689776Z",
          "shell.execute_reply": "2023-01-16T21:08:15.688076Z",
          "shell.execute_reply.started": "2023-01-16T21:08:15.682477Z"
        },
        "id": "N8Xw2ebo69Qq"
      },
      "outputs": [],
      "source": [
        "import pandas as pd\n",
        "import numpy as np\n",
        "import matplotlib.pyplot as plt\n",
        "from collections import Counter\n",
        "from sklearn.model_selection import train_test_split\n",
        "from sklearn.preprocessing import LabelEncoder\n",
        "import networkx as nx\n",
        "import torch\n",
        "import torch.nn as nn\n",
        "import torch.nn.functional as F"
      ]
    },
    {
      "cell_type": "markdown",
      "metadata": {
        "id": "N82BtN5M69Qw"
      },
      "source": [
        "## Preprosessing \n",
        "\n",
        "Preprocessing tabular data before creating a graph is important because it ensures that the data is in a format that can be easily converted into a graph structure. Tabular data, such as a CSV file, typically contains rows and columns of information, with each row representing a single record and each column representing a specific feature or attribute. Before creating a graph, it is essential to clean and transform the data so that it is consistent and in a format that can be easily mapped to a graph structure. This may include tasks such as filling in missing values, converting data types, and removing duplicates.\n",
        "\n",
        "Additionally, preprocessing tabular data can also help to improve the performance and accuracy of graph-based algorithms by reducing noise and irrelevant information in the data. This can be achieved by removing irrelevant features, normalizing numerical data, and encoding categorical data. Preprocessing can also help to balance the class distribution in case of imbalanced data, which is a common problem in fraud detection datasets.\n",
        "\n",
        "**Note:**\n",
        "\n",
        "For hardware limitations we will only take 100.000 samples of our data."
      ]
    },
    {
      "cell_type": "code",
      "source": [
        "from google.colab import drive\n",
        "drive.mount('/content/drive')"
      ],
      "metadata": {
        "id": "H1mRozOB7NQC",
        "colab": {
          "base_uri": "https://localhost:8080/"
        },
        "outputId": "8046d8bf-5f22-4c3f-a271-22bb74dd86aa"
      },
      "execution_count": 2,
      "outputs": [
        {
          "output_type": "stream",
          "name": "stdout",
          "text": [
            "Mounted at /content/drive\n"
          ]
        }
      ]
    },
    {
      "cell_type": "code",
      "execution_count": 3,
      "metadata": {
        "execution": {
          "iopub.execute_input": "2023-01-16T21:02:57.756542Z",
          "iopub.status.busy": "2023-01-16T21:02:57.755879Z",
          "iopub.status.idle": "2023-01-16T21:04:23.668499Z",
          "shell.execute_reply": "2023-01-16T21:04:23.667008Z",
          "shell.execute_reply.started": "2023-01-16T21:02:57.756503Z"
        },
        "id": "P2xv5-qg69Qy"
      },
      "outputs": [],
      "source": [
        "# Load the tabular dataset\n",
        "df = pd.read_csv(\"/content/drive/MyDrive/Fraudster/transaction/card_transaction.v1.csv\").sample(n=1000000, random_state=42)"
      ]
    },
    {
      "cell_type": "code",
      "execution_count": 4,
      "metadata": {
        "execution": {
          "iopub.execute_input": "2023-01-16T21:04:23.672324Z",
          "iopub.status.busy": "2023-01-16T21:04:23.671699Z",
          "iopub.status.idle": "2023-01-16T21:04:23.770159Z",
          "shell.execute_reply": "2023-01-16T21:04:23.768565Z",
          "shell.execute_reply.started": "2023-01-16T21:04:23.672275Z"
        },
        "id": "ge-4VMsb69Qz",
        "colab": {
          "base_uri": "https://localhost:8080/"
        },
        "outputId": "dfd13ea6-d12e-4d5d-ec19-186db6741897"
      },
      "outputs": [
        {
          "output_type": "stream",
          "name": "stdout",
          "text": [
            "<class 'pandas.core.frame.DataFrame'>\n",
            "Int64Index: 1000000 entries, 18199893 to 11362586\n",
            "Data columns (total 15 columns):\n",
            " #   Column          Non-Null Count    Dtype  \n",
            "---  ------          --------------    -----  \n",
            " 0   User            1000000 non-null  int64  \n",
            " 1   Card            1000000 non-null  int64  \n",
            " 2   Year            1000000 non-null  int64  \n",
            " 3   Month           1000000 non-null  int64  \n",
            " 4   Day             1000000 non-null  int64  \n",
            " 5   Time            1000000 non-null  object \n",
            " 6   Amount          1000000 non-null  object \n",
            " 7   Use Chip        1000000 non-null  object \n",
            " 8   Merchant Name   1000000 non-null  int64  \n",
            " 9   Merchant City   1000000 non-null  object \n",
            " 10  Merchant State  888516 non-null   object \n",
            " 11  Zip             882099 non-null   float64\n",
            " 12  MCC             1000000 non-null  int64  \n",
            " 13  Errors?         15788 non-null    object \n",
            " 14  Is Fraud?       1000000 non-null  object \n",
            "dtypes: float64(1), int64(7), object(7)\n",
            "memory usage: 122.1+ MB\n"
          ]
        }
      ],
      "source": [
        "df.info()"
      ]
    },
    {
      "cell_type": "code",
      "execution_count": 5,
      "metadata": {
        "execution": {
          "iopub.execute_input": "2023-01-16T21:04:23.772609Z",
          "iopub.status.busy": "2023-01-16T21:04:23.771853Z",
          "iopub.status.idle": "2023-01-16T21:04:23.792769Z",
          "shell.execute_reply": "2023-01-16T21:04:23.790768Z",
          "shell.execute_reply.started": "2023-01-16T21:04:23.772521Z"
        },
        "id": "af_B3Zf569Q3",
        "colab": {
          "base_uri": "https://localhost:8080/"
        },
        "outputId": "157f2591-eaec-4d10-9b99-0def0153f4ac"
      },
      "outputs": [
        {
          "output_type": "execute_result",
          "data": {
            "text/plain": [
              "(1267, 15)"
            ]
          },
          "metadata": {},
          "execution_count": 5
        }
      ],
      "source": [
        "# We need to make sure that the samples we extracted have some rows where fraud is True\n",
        "df [df['Is Fraud?'] == 'Yes'].shape"
      ]
    },
    {
      "cell_type": "code",
      "execution_count": 6,
      "metadata": {
        "execution": {
          "iopub.execute_input": "2023-01-16T21:04:23.797075Z",
          "iopub.status.busy": "2023-01-16T21:04:23.796135Z",
          "iopub.status.idle": "2023-01-16T21:04:24.225588Z",
          "shell.execute_reply": "2023-01-16T21:04:24.223789Z",
          "shell.execute_reply.started": "2023-01-16T21:04:23.797018Z"
        },
        "id": "hgM9SDRe69Q4",
        "colab": {
          "base_uri": "https://localhost:8080/",
          "height": 860
        },
        "outputId": "c839c511-7c01-48de-8810-bdeb31d0915c"
      },
      "outputs": [
        {
          "output_type": "execute_result",
          "data": {
            "text/plain": [
              "([0, 1, 2, 3, 4, 5, 6, 7, 8, 9, 10, 11, 12, 13, 14],\n",
              " [Text(0, 0, 'Errors?'),\n",
              "  Text(1, 0, 'Zip'),\n",
              "  Text(2, 0, 'Merchant State'),\n",
              "  Text(3, 0, 'User'),\n",
              "  Text(4, 0, 'Card'),\n",
              "  Text(5, 0, 'Year'),\n",
              "  Text(6, 0, 'Month'),\n",
              "  Text(7, 0, 'Day'),\n",
              "  Text(8, 0, 'Time'),\n",
              "  Text(9, 0, 'Amount'),\n",
              "  Text(10, 0, 'Use Chip'),\n",
              "  Text(11, 0, 'Merchant Name'),\n",
              "  Text(12, 0, 'Merchant City'),\n",
              "  Text(13, 0, 'MCC'),\n",
              "  Text(14, 0, 'Is Fraud?')])"
            ]
          },
          "metadata": {},
          "execution_count": 6
        },
        {
          "output_type": "display_data",
          "data": {
            "text/plain": [
              "<Figure size 640x480 with 1 Axes>"
            ],
            "image/png": "[encoded data removed]"
          },
          "metadata": {}
        }
      ],
      "source": [
        "percent_missing=(df.isnull().sum()*100/df.shape[0]).sort_values(ascending=True)\n",
        "plt.title(\"Missing Value Analysis\")\n",
        "plt.xlabel(\"Features\")\n",
        "plt.ylabel(\"% of missing values\")\n",
        "plt.bar(percent_missing.sort_values(ascending=False).index,percent_missing.sort_values(ascending=False),color=(0.1, 0.1, 0.1, 0.1),edgecolor='blue')\n",
        "plt.xticks(rotation=90)"
      ]
    },
    {
      "cell_type": "markdown",
      "metadata": {
        "id": "J5KzKd1O69Q7"
      },
      "source": [
        "The card_id is defined as one card by one user. A specific user can have multiple cards, which would correspond to multiple different card_ids for this graph. \n",
        "For this reason we will create a new column which is the concatenation of the column User and the Column Card"
      ]
    },
    {
      "cell_type": "code",
      "execution_count": 7,
      "metadata": {
        "execution": {
          "iopub.execute_input": "2023-01-16T21:04:24.227819Z",
          "iopub.status.busy": "2023-01-16T21:04:24.227364Z",
          "iopub.status.idle": "2023-01-16T21:04:24.381702Z",
          "shell.execute_reply": "2023-01-16T21:04:24.380181Z",
          "shell.execute_reply.started": "2023-01-16T21:04:24.227781Z"
        },
        "id": "cBlNoRq469Q8"
      },
      "outputs": [],
      "source": [
        "df[\"card_id\"] = df[\"User\"].astype(str) + \"_\" + df[\"Card\"].astype(str)"
      ]
    },
    {
      "cell_type": "code",
      "execution_count": 8,
      "metadata": {
        "execution": {
          "iopub.execute_input": "2023-01-16T21:04:24.384304Z",
          "iopub.status.busy": "2023-01-16T21:04:24.383425Z",
          "iopub.status.idle": "2023-01-16T21:04:24.393573Z",
          "shell.execute_reply": "2023-01-16T21:04:24.391625Z",
          "shell.execute_reply.started": "2023-01-16T21:04:24.384265Z"
        },
        "id": "zOjj9R-569Q9",
        "colab": {
          "base_uri": "https://localhost:8080/"
        },
        "outputId": "e9f430b7-5d8b-41df-f122-5b6b1b8b3e3b"
      },
      "outputs": [
        {
          "output_type": "execute_result",
          "data": {
            "text/plain": [
              "18199893      $59.18\n",
              "9731325      $280.91\n",
              "536687      $-144.00\n",
              "13223840       $6.76\n",
              "17070521       $9.17\n",
              "Name: Amount, dtype: object"
            ]
          },
          "metadata": {},
          "execution_count": 8
        }
      ],
      "source": [
        "df.Amount.head(5)"
      ]
    },
    {
      "cell_type": "code",
      "execution_count": 9,
      "metadata": {
        "execution": {
          "iopub.execute_input": "2023-01-16T21:04:24.396354Z",
          "iopub.status.busy": "2023-01-16T21:04:24.395249Z",
          "iopub.status.idle": "2023-01-16T21:04:24.574714Z",
          "shell.execute_reply": "2023-01-16T21:04:24.573724Z",
          "shell.execute_reply.started": "2023-01-16T21:04:24.396307Z"
        },
        "id": "844euPa369RA",
        "colab": {
          "base_uri": "https://localhost:8080/"
        },
        "outputId": "21429ca7-8985-4a09-f70e-8fca350cc723"
      },
      "outputs": [
        {
          "output_type": "stream",
          "name": "stderr",
          "text": [
            "<ipython-input-9-389bb261d7db>:2: FutureWarning: The default value of regex will change from True to False in a future version. In addition, single character regular expressions will *not* be treated as literal strings when regex=True.\n",
            "  df[\"Amount\"]=df[\"Amount\"].str.replace(\"$\",\"\").astype(float)\n"
          ]
        }
      ],
      "source": [
        "# We need to strip the ‘$’ from the Amount to cast as a float\n",
        "df[\"Amount\"]=df[\"Amount\"].str.replace(\"$\",\"\").astype(float)"
      ]
    },
    {
      "cell_type": "code",
      "execution_count": 10,
      "metadata": {
        "execution": {
          "iopub.execute_input": "2023-01-16T21:04:24.577077Z",
          "iopub.status.busy": "2023-01-16T21:04:24.575790Z",
          "iopub.status.idle": "2023-01-16T21:04:24.745287Z",
          "shell.execute_reply": "2023-01-16T21:04:24.743972Z",
          "shell.execute_reply.started": "2023-01-16T21:04:24.576900Z"
        },
        "id": "JDrolnwq69RB"
      },
      "outputs": [],
      "source": [
        "# time can't be casted to int so so opted to extract the hour and minute\n",
        "df[\"Hour\"] = df[\"Time\"].str [0:2]\n",
        "df[\"Minute\"] = df[\"Time\"].str [3:5]"
      ]
    },
    {
      "cell_type": "code",
      "execution_count": 11,
      "metadata": {
        "execution": {
          "iopub.execute_input": "2023-01-16T21:04:24.747613Z",
          "iopub.status.busy": "2023-01-16T21:04:24.747153Z",
          "iopub.status.idle": "2023-01-16T21:04:24.758257Z",
          "shell.execute_reply": "2023-01-16T21:04:24.756259Z",
          "shell.execute_reply.started": "2023-01-16T21:04:24.747539Z"
        },
        "id": "IpnCkEvb69RC",
        "colab": {
          "base_uri": "https://localhost:8080/"
        },
        "outputId": "1d2fe4b3-f00d-4519-8d48-6d5c54bd66b4"
      },
      "outputs": [
        {
          "output_type": "execute_result",
          "data": {
            "text/plain": [
              "18199893    00\n",
              "9731325     22\n",
              "536687      07\n",
              "13223840    14\n",
              "17070521    11\n",
              "            ..\n",
              "16205127    11\n",
              "21862718    08\n",
              "15847462    17\n",
              "19701488    09\n",
              "11362586    22\n",
              "Name: Hour, Length: 1000000, dtype: object"
            ]
          },
          "metadata": {},
          "execution_count": 11
        }
      ],
      "source": [
        "df.Hour"
      ]
    },
    {
      "cell_type": "code",
      "execution_count": 12,
      "metadata": {
        "execution": {
          "iopub.execute_input": "2023-01-16T21:04:24.765446Z",
          "iopub.status.busy": "2023-01-16T21:04:24.764947Z",
          "iopub.status.idle": "2023-01-16T21:04:24.921271Z",
          "shell.execute_reply": "2023-01-16T21:04:24.919646Z",
          "shell.execute_reply.started": "2023-01-16T21:04:24.765408Z"
        },
        "id": "v8uWClAR69RF",
        "colab": {
          "base_uri": "https://localhost:8080/"
        },
        "outputId": "fe67499b-460a-464a-82e9-a3b82a4ea24e"
      },
      "outputs": [
        {
          "output_type": "execute_result",
          "data": {
            "text/plain": [
              "18199893    11\n",
              "9731325     12\n",
              "536687      07\n",
              "13223840    58\n",
              "17070521    44\n",
              "            ..\n",
              "16205127    10\n",
              "21862718    38\n",
              "15847462    27\n",
              "19701488    52\n",
              "11362586    16\n",
              "Name: Minute, Length: 1000000, dtype: object"
            ]
          },
          "metadata": {},
          "execution_count": 12
        }
      ],
      "source": [
        "df.Minute"
      ]
    },
    {
      "cell_type": "code",
      "execution_count": 13,
      "metadata": {
        "execution": {
          "iopub.execute_input": "2023-01-16T21:04:24.923964Z",
          "iopub.status.busy": "2023-01-16T21:04:24.923441Z",
          "iopub.status.idle": "2023-01-16T21:04:25.062506Z",
          "shell.execute_reply": "2023-01-16T21:04:25.060936Z",
          "shell.execute_reply.started": "2023-01-16T21:04:24.923909Z"
        },
        "id": "SjXMcyoW69RH",
        "colab": {
          "base_uri": "https://localhost:8080/"
        },
        "outputId": "3d185d8f-4c65-4778-ce9e-64e55958b198"
      },
      "outputs": [
        {
          "output_type": "stream",
          "name": "stdout",
          "text": [
            "<class 'pandas.core.frame.DataFrame'>\n",
            "Int64Index: 1000000 entries, 18199893 to 11362586\n",
            "Data columns (total 15 columns):\n",
            " #   Column          Non-Null Count    Dtype  \n",
            "---  ------          --------------    -----  \n",
            " 0   Year            1000000 non-null  int64  \n",
            " 1   Month           1000000 non-null  int64  \n",
            " 2   Day             1000000 non-null  int64  \n",
            " 3   Amount          1000000 non-null  float64\n",
            " 4   Use Chip        1000000 non-null  object \n",
            " 5   Merchant Name   1000000 non-null  int64  \n",
            " 6   Merchant City   1000000 non-null  object \n",
            " 7   Merchant State  888516 non-null   object \n",
            " 8   Zip             882099 non-null   float64\n",
            " 9   MCC             1000000 non-null  int64  \n",
            " 10  Errors?         15788 non-null    object \n",
            " 11  Is Fraud?       1000000 non-null  object \n",
            " 12  card_id         1000000 non-null  object \n",
            " 13  Hour            1000000 non-null  object \n",
            " 14  Minute          1000000 non-null  object \n",
            "dtypes: float64(2), int64(5), object(8)\n",
            "memory usage: 122.1+ MB\n"
          ]
        }
      ],
      "source": [
        "df = df.drop([\"Time\",\"User\",\"Card\"],axis=1)\n",
        "df.info()"
      ]
    },
    {
      "cell_type": "code",
      "execution_count": 14,
      "metadata": {
        "execution": {
          "iopub.execute_input": "2023-01-16T21:04:25.064933Z",
          "iopub.status.busy": "2023-01-16T21:04:25.064389Z",
          "iopub.status.idle": "2023-01-16T21:04:25.079731Z",
          "shell.execute_reply": "2023-01-16T21:04:25.077960Z",
          "shell.execute_reply.started": "2023-01-16T21:04:25.064892Z"
        },
        "id": "mICNk17U69RI",
        "colab": {
          "base_uri": "https://localhost:8080/"
        },
        "outputId": "729be5e8-9ac0-4d2d-a254-6fe8efa61891"
      },
      "outputs": [
        {
          "output_type": "execute_result",
          "data": {
            "text/plain": [
              "array([nan, 'Bad PIN,', 'Insufficient Balance,', 'Technical Glitch,',\n",
              "       'Bad Card Number,', 'Bad CVV,', 'Bad Expiration,', 'Bad Zipcode,',\n",
              "       'Insufficient Balance,Technical Glitch,',\n",
              "       'Bad Card Number,Bad CVV,', 'Bad CVV,Insufficient Balance,',\n",
              "       'Bad Card Number,Insufficient Balance,',\n",
              "       'Bad PIN,Technical Glitch,', 'Bad PIN,Insufficient Balance,',\n",
              "       'Bad Card Number,Bad Expiration,', 'Bad Expiration,Bad CVV,',\n",
              "       'Bad Expiration,Insufficient Balance,',\n",
              "       'Bad Zipcode,Insufficient Balance,', 'Bad CVV,Technical Glitch,',\n",
              "       'Bad Expiration,Technical Glitch,'], dtype=object)"
            ]
          },
          "metadata": {},
          "execution_count": 14
        }
      ],
      "source": [
        "df[\"Errors?\"].unique()"
      ]
    },
    {
      "cell_type": "code",
      "execution_count": 15,
      "metadata": {
        "execution": {
          "iopub.execute_input": "2023-01-16T21:04:25.081579Z",
          "iopub.status.busy": "2023-01-16T21:04:25.081141Z",
          "iopub.status.idle": "2023-01-16T21:04:25.098267Z",
          "shell.execute_reply": "2023-01-16T21:04:25.096603Z",
          "shell.execute_reply.started": "2023-01-16T21:04:25.081535Z"
        },
        "id": "9BTOUbeI69RL"
      },
      "outputs": [],
      "source": [
        "df[\"Errors?\"]= df[\"Errors?\"].fillna(\"No error\")"
      ]
    },
    {
      "cell_type": "markdown",
      "metadata": {
        "id": "GaD5LtNo69RM"
      },
      "source": [
        "The two columns Zip and Merchant state contains missing values which can affect our graph. Moreover these information can be extracted from the column Merchant City so we will drop them."
      ]
    },
    {
      "cell_type": "code",
      "execution_count": 16,
      "metadata": {
        "execution": {
          "iopub.execute_input": "2023-01-16T21:04:25.100600Z",
          "iopub.status.busy": "2023-01-16T21:04:25.100132Z",
          "iopub.status.idle": "2023-01-16T21:04:25.129311Z",
          "shell.execute_reply": "2023-01-16T21:04:25.128080Z",
          "shell.execute_reply.started": "2023-01-16T21:04:25.100563Z"
        },
        "id": "wnO9DlsT69RN"
      },
      "outputs": [],
      "source": [
        "df = df.drop(columns=[\"Merchant State\",\"Zip\"],axis=1)"
      ]
    },
    {
      "cell_type": "code",
      "execution_count": 17,
      "metadata": {
        "execution": {
          "iopub.execute_input": "2023-01-16T21:04:25.131409Z",
          "iopub.status.busy": "2023-01-16T21:04:25.131026Z",
          "iopub.status.idle": "2023-01-16T21:04:25.193513Z",
          "shell.execute_reply": "2023-01-16T21:04:25.192070Z",
          "shell.execute_reply.started": "2023-01-16T21:04:25.131375Z"
        },
        "id": "o8mRP8w069RO"
      },
      "outputs": [],
      "source": [
        "# change the is fraud column to binary \n",
        "df[\"Is Fraud?\"] = df[\"Is Fraud?\"].apply(lambda x: 1 if x == 'Yes' else 0)"
      ]
    },
    {
      "cell_type": "code",
      "execution_count": 18,
      "metadata": {
        "execution": {
          "iopub.execute_input": "2023-01-16T21:04:25.195994Z",
          "iopub.status.busy": "2023-01-16T21:04:25.195485Z",
          "iopub.status.idle": "2023-01-16T21:04:25.339333Z",
          "shell.execute_reply": "2023-01-16T21:04:25.338041Z",
          "shell.execute_reply.started": "2023-01-16T21:04:25.195927Z"
        },
        "id": "NQN5dMbi69RQ"
      },
      "outputs": [],
      "source": [
        "df[\"Merchant City\"]=LabelEncoder().fit_transform(df[\"Merchant City\"])\n",
        "df[\"Use Chip\"]=LabelEncoder().fit_transform(df[\"Use Chip\"])\n",
        "df[\"Errors?\"]=LabelEncoder().fit_transform(df[\"Errors?\"])"
      ]
    },
    {
      "cell_type": "code",
      "execution_count": 19,
      "metadata": {
        "execution": {
          "iopub.execute_input": "2023-01-16T21:04:25.341534Z",
          "iopub.status.busy": "2023-01-16T21:04:25.341182Z",
          "iopub.status.idle": "2023-01-16T21:04:25.353390Z",
          "shell.execute_reply": "2023-01-16T21:04:25.351930Z",
          "shell.execute_reply.started": "2023-01-16T21:04:25.341502Z"
        },
        "id": "kHAyCBu769RR",
        "colab": {
          "base_uri": "https://localhost:8080/"
        },
        "outputId": "9311e724-f148-40cd-d961-fbf019a477b4"
      },
      "outputs": [
        {
          "output_type": "execute_result",
          "data": {
            "text/plain": [
              "array([18, 11, 16, 19,  3,  0,  7, 14, 17,  4,  1,  6, 13, 12,  5,  8,  9,\n",
              "       15,  2, 10])"
            ]
          },
          "metadata": {},
          "execution_count": 19
        }
      ],
      "source": [
        "df[\"Errors?\"].unique()"
      ]
    },
    {
      "cell_type": "code",
      "execution_count": 20,
      "metadata": {
        "execution": {
          "iopub.execute_input": "2023-01-16T21:04:25.355589Z",
          "iopub.status.busy": "2023-01-16T21:04:25.355142Z",
          "iopub.status.idle": "2023-01-16T21:04:25.391559Z",
          "shell.execute_reply": "2023-01-16T21:04:25.389950Z",
          "shell.execute_reply.started": "2023-01-16T21:04:25.355554Z"
        },
        "id": "JNiBVNTw69RT",
        "colab": {
          "base_uri": "https://localhost:8080/"
        },
        "outputId": "f1c18a62-9afe-464d-c1c9-5bd96f166345"
      },
      "outputs": [
        {
          "output_type": "stream",
          "name": "stdout",
          "text": [
            "<class 'pandas.core.frame.DataFrame'>\n",
            "Int64Index: 1000000 entries, 18199893 to 11362586\n",
            "Data columns (total 13 columns):\n",
            " #   Column         Non-Null Count    Dtype  \n",
            "---  ------         --------------    -----  \n",
            " 0   Year           1000000 non-null  int64  \n",
            " 1   Month          1000000 non-null  int64  \n",
            " 2   Day            1000000 non-null  int64  \n",
            " 3   Amount         1000000 non-null  float64\n",
            " 4   Use Chip       1000000 non-null  int64  \n",
            " 5   Merchant Name  1000000 non-null  int64  \n",
            " 6   Merchant City  1000000 non-null  int64  \n",
            " 7   MCC            1000000 non-null  int64  \n",
            " 8   Errors?        1000000 non-null  int64  \n",
            " 9   Is Fraud?      1000000 non-null  int64  \n",
            " 10  card_id        1000000 non-null  object \n",
            " 11  Hour           1000000 non-null  object \n",
            " 12  Minute         1000000 non-null  object \n",
            "dtypes: float64(1), int64(9), object(3)\n",
            "memory usage: 106.8+ MB\n"
          ]
        }
      ],
      "source": [
        "df.info()"
      ]
    },
    {
      "cell_type": "markdown",
      "metadata": {
        "id": "2c_ux8d-69RV"
      },
      "source": [
        "## GNN for fraud detection:\n",
        "Creating a multigraph for fraud detection using transaction data and applying a Graph Neural Network (GNN) on the edge list can be done in the following steps:\n",
        "\n",
        "1. Prepare the transaction data: Collect and organize the transaction data into a format that can be used to create the edges of the multigraph. For example, each transaction could be represented as a tuple (node1, node2, attributes), where node1 and node2 represent the sender and receiver of the transaction, and attributes is a dictionary containing properties such as the amount, timestamp, and transaction type.\n",
        "\n",
        "2. Create the multigraph: Use the transaction data to create a multigraph using the NetworkX library. The add_edge() method can be used to add edges to the multigraph, where each edge represents a transaction.\n",
        "\n",
        "3. Extract the edges list and their features: Use the edges() method of the multigraph to extract the edges list and their features, which will be used as input to the GNN.\n",
        "\n",
        "4. Apply a GNN on the edge list: Use a GNN library such as PyTorch Geometric, Deep Graph Library (DGL) or Spektral to apply a GNN on the edge list. The GNN will learn representations of the edges in the multigraph and use them to classify the edges as fraudulent or non-fraudulent.\n",
        "\n",
        "5. Evaluation: To evaluate the performance of the GNN, you can split the data into train and test sets, and use the test set to evaluate the accuracy, precision, recall, and F1-score of the model."
      ]
    },
    {
      "cell_type": "markdown",
      "metadata": {
        "id": "4S8YkJ9T69RX"
      },
      "source": [
        "### Graph construction \n",
        "\n",
        "When constructing a graph with transaction edges between card_id and merchant_name, the first step is to identify the nodes in the graph. In this case, the card_id and merchant_name represent the nodes in the graph. Each card_id represents a unique credit card and each merchant_name represents a unique merchant. These nodes can be created by extracting the card_id and merchant_name information from the tabular data and storing them in separate lists.\n",
        "\n",
        "Once the nodes have been identified, the next step is to create edges between them. These edges represent the transactions that have taken place between a card_id and a merchant_name. To create the edges, a list of transactions is created and for each transaction, an edge is created between the card_id and merchant_name.\n"
      ]
    },
    {
      "cell_type": "markdown",
      "metadata": {
        "id": "2IfzAd1Q69RX"
      },
      "source": [
        "### Method 1"
      ]
    },
    {
      "cell_type": "markdown",
      "metadata": {
        "id": "0ks4JfCJ69RZ"
      },
      "source": [
        "We are creating an empty multigraph object called G using the nx.MultiGraph() function from the NetworkX library. Then we add nodes to the graph for each unique card_id and merchant_name from the dataframe df.\n",
        "\n",
        "The add_nodes_from method is used to add nodes to the graph, it takes an iterable as input and creates a node for each element in the iterable. The df[\"card_id\"].unique() will return a list of unique card_ids in the dataframe, and the df[\"Merchant Name\"].unique will return a list of all the merchant names in the dataframe.\n",
        "\n",
        "The type attribute is added to each node, it is used to differentiate between card_id and merchant_name nodes. This will help later on when we want to analyze the graph.\n",
        "\n",
        "**Why did we use a multigraph and not graph?**\n",
        "\n",
        "The same user (card_id) can buy from the same merchant (Merchant Name) multiple times, so we can have multiple edges between the user and the merchant and for this reason we used multigraph instead of graph \n",
        "\n",
        "  ![image.png](attachment:7787e1f7-3e13-44c0-9ddb-2e4d67d20c13.png)\n"
      ]
    },
    {
      "cell_type": "code",
      "execution_count": 21,
      "metadata": {
        "execution": {
          "iopub.execute_input": "2023-01-16T21:04:59.101133Z",
          "iopub.status.busy": "2023-01-16T21:04:59.099780Z",
          "iopub.status.idle": "2023-01-16T21:04:59.147377Z",
          "shell.execute_reply": "2023-01-16T21:04:59.146367Z",
          "shell.execute_reply.started": "2023-01-16T21:04:59.101074Z"
        },
        "id": "Jw2-iURV69Ra"
      },
      "outputs": [],
      "source": [
        "# Create an empty graph\n",
        "G = nx.MultiGraph()\n",
        "\n",
        "# Add nodes to the graph for each unique card_id, merchant_name\n",
        "G.add_nodes_from(df[\"card_id\"].unique(), type='card_id')\n",
        "G.add_nodes_from(df[\"Merchant Name\"].unique(), type='merchant_name')\n"
      ]
    },
    {
      "cell_type": "markdown",
      "metadata": {
        "id": "ikQgH-wK69Rc"
      },
      "source": [
        "The code below adding edges and properties to the edges of a graph. The code iterates through each row of the dataframe, df, and creates a variable for each property then assign it to the edge between the card_id and merchant_name of that row."
      ]
    },
    {
      "cell_type": "code",
      "execution_count": 22,
      "metadata": {
        "execution": {
          "iopub.execute_input": "2023-01-16T21:04:59.150566Z",
          "iopub.status.busy": "2023-01-16T21:04:59.149502Z",
          "iopub.status.idle": "2023-01-16T21:05:11.197027Z",
          "shell.execute_reply": "2023-01-16T21:05:11.195877Z",
          "shell.execute_reply.started": "2023-01-16T21:04:59.150526Z"
        },
        "id": "fIHURcid69Re"
      },
      "outputs": [],
      "source": [
        "# Add edges and properties to the edges \n",
        "for _, row in df.iterrows():\n",
        "    # Create a variable for each properties for each edge\n",
        "        year = row[\"Year\"],\n",
        "        month = row[\"Month\"],\n",
        "        day = row[\"Day\"],\n",
        "        hour = row[\"Hour\"],\n",
        "        minute =row[\"Minute\"],\n",
        "        amount = row[\"Amount\"],\n",
        "        use_chip =  row[\"Use Chip\"],\n",
        "        merchant_city = row[\"Merchant City\"],\n",
        "        errors =  row[\"Errors?\"],\n",
        "        mcc = row['MCC']\n",
        "    \n",
        " \n",
        "        G.add_edge(row['card_id'], row['Merchant Name'], year = year , month = month , day = day ,\n",
        "              hour = hour , minute = minute , amount = amount , use_chip = use_chip ,\n",
        "              merchant_city = merchant_city , errors = errors , mcc = mcc)\n",
        "  \n"
      ]
    },
    {
      "cell_type": "code",
      "execution_count": 23,
      "metadata": {
        "execution": {
          "iopub.execute_input": "2023-01-16T21:05:11.200279Z",
          "iopub.status.busy": "2023-01-16T21:05:11.198964Z",
          "iopub.status.idle": "2023-01-16T21:05:11.260184Z",
          "shell.execute_reply": "2023-01-16T21:05:11.259136Z",
          "shell.execute_reply.started": "2023-01-16T21:05:11.200228Z"
        },
        "id": "V2IASNO869Rf",
        "colab": {
          "base_uri": "https://localhost:8080/"
        },
        "outputId": "1672431a-e6fb-46b3-abf1-b3a85f0a21ef"
      },
      "outputs": [
        {
          "output_type": "stream",
          "name": "stdout",
          "text": [
            "Number of nodes: 39418\n",
            "Number of edges: 1000000\n"
          ]
        }
      ],
      "source": [
        "# Get the number of nodes and edges in the graph\n",
        "num_nodes = G.number_of_nodes()\n",
        "num_edges = G.number_of_edges()\n",
        "\n",
        "# Print the number of nodes and edges\n",
        "print(\"Number of nodes:\", num_nodes)\n",
        "print(\"Number of edges:\", num_edges)"
      ]
    },
    {
      "cell_type": "code",
      "execution_count": 24,
      "metadata": {
        "execution": {
          "iopub.execute_input": "2023-01-16T21:05:56.996797Z",
          "iopub.status.busy": "2023-01-16T21:05:56.996370Z",
          "iopub.status.idle": "2023-01-16T21:05:57.823056Z",
          "shell.execute_reply": "2023-01-16T21:05:57.821824Z",
          "shell.execute_reply.started": "2023-01-16T21:05:56.996759Z"
        },
        "id": "F9-zTbR169Rh"
      },
      "outputs": [],
      "source": [
        "# Convert the graph to an adjacency matrix\n",
        "adj_matrix = nx.adjacency_matrix(G).todense()"
      ]
    },
    {
      "cell_type": "code",
      "execution_count": 25,
      "metadata": {
        "execution": {
          "iopub.execute_input": "2023-01-16T21:05:57.825732Z",
          "iopub.status.busy": "2023-01-16T21:05:57.825182Z",
          "iopub.status.idle": "2023-01-16T21:05:57.833229Z",
          "shell.execute_reply": "2023-01-16T21:05:57.831790Z",
          "shell.execute_reply.started": "2023-01-16T21:05:57.825696Z"
        },
        "id": "Eypcxcti69Rj",
        "colab": {
          "base_uri": "https://localhost:8080/"
        },
        "outputId": "a89efc70-8991-4f1e-ae27-7cbe1f0043b5"
      },
      "outputs": [
        {
          "output_type": "execute_result",
          "data": {
            "text/plain": [
              "(39418, 39418)"
            ]
          },
          "metadata": {},
          "execution_count": 25
        }
      ],
      "source": [
        "adj_matrix.shape"
      ]
    },
    {
      "cell_type": "markdown",
      "metadata": {
        "id": "7AtA7Wg669Rk"
      },
      "source": [
        "We will retrieve the properties of a small sample of **nodes** in our graph (G) and print their properties."
      ]
    },
    {
      "cell_type": "code",
      "execution_count": 26,
      "metadata": {
        "execution": {
          "iopub.execute_input": "2023-01-16T21:05:57.836497Z",
          "iopub.status.busy": "2023-01-16T21:05:57.835126Z",
          "iopub.status.idle": "2023-01-16T21:05:57.860033Z",
          "shell.execute_reply": "2023-01-16T21:05:57.858785Z",
          "shell.execute_reply.started": "2023-01-16T21:05:57.836446Z"
        },
        "id": "FHqFMl-B69Rl",
        "colab": {
          "base_uri": "https://localhost:8080/"
        },
        "outputId": "bf129083-6c14-44cc-9d0c-97dda110557c"
      },
      "outputs": [
        {
          "output_type": "stream",
          "name": "stdout",
          "text": [
            "Node: 1470_0, Properties: card_id\n",
            "Node: 822_1, Properties: card_id\n",
            "Node: 41_3, Properties: card_id\n",
            "Node: 1084_0, Properties: card_id\n",
            "Node: 1384_0, Properties: card_id\n",
            "Node: 55_3, Properties: card_id\n",
            "Node: 776_0, Properties: card_id\n",
            "Node: 66_0, Properties: card_id\n",
            "Node: 1880_2, Properties: card_id\n",
            "Node: 490_5, Properties: card_id\n"
          ]
        }
      ],
      "source": [
        "# Get a small sample of the nodes in the graph\n",
        "sample_nodes = list(G.nodes())[:10]\n",
        "\n",
        "# Retrieve the properties of the sample nodes\n",
        "node_properties = nx.get_node_attributes(G, 'type')\n",
        "\n",
        "# Print the properties of the sample nodes\n",
        "for node in sample_nodes:\n",
        "    print(f\"Node: {node}, Properties: {node_properties[node]}\")\n"
      ]
    },
    {
      "cell_type": "code",
      "execution_count": 27,
      "metadata": {
        "execution": {
          "iopub.execute_input": "2023-01-16T21:05:57.862762Z",
          "iopub.status.busy": "2023-01-16T21:05:57.862402Z",
          "iopub.status.idle": "2023-01-16T21:05:57.870056Z",
          "shell.execute_reply": "2023-01-16T21:05:57.868163Z",
          "shell.execute_reply.started": "2023-01-16T21:05:57.862730Z"
        },
        "id": "BqVEsKRA69Rn",
        "colab": {
          "base_uri": "https://localhost:8080/"
        },
        "outputId": "f6b472a1-722e-4f89-dd98-66ea957b679b"
      },
      "outputs": [
        {
          "output_type": "stream",
          "name": "stdout",
          "text": [
            "{0: {'year': (2019,), 'month': (7,), 'day': (10,), 'hour': ('00',), 'minute': ('11',), 'amount': (59.18,), 'use_chip': (0,), 'merchant_city': (3546,), 'errors': (18,), 'mcc': 5813}, 1: {'year': (2019,), 'month': (10,), 'day': (1,), 'hour': ('00',), 'minute': ('22',), 'amount': (91.4,), 'use_chip': (0,), 'merchant_city': (3546,), 'errors': (18,), 'mcc': 5813}, 2: {'year': (2011,), 'month': (9,), 'day': (27,), 'hour': ('00',), 'minute': ('00',), 'amount': (64.21,), 'use_chip': (2,), 'merchant_city': (3546,), 'errors': (18,), 'mcc': 5813}, 3: {'year': (2011,), 'month': (11,), 'day': (11,), 'hour': ('00',), 'minute': ('04',), 'amount': (64.36,), 'use_chip': (2,), 'merchant_city': (3546,), 'errors': (18,), 'mcc': 5813}, 4: {'year': (2009,), 'month': (11,), 'day': (25,), 'hour': ('00',), 'minute': ('18',), 'amount': (52.75,), 'use_chip': (2,), 'merchant_city': (3546,), 'errors': (18,), 'mcc': 5813}, 5: {'year': (2013,), 'month': (5,), 'day': (20,), 'hour': ('00',), 'minute': ('21',), 'amount': (63.72,), 'use_chip': (2,), 'merchant_city': (3546,), 'errors': (18,), 'mcc': 5813}, 6: {'year': (2015,), 'month': (8,), 'day': (31,), 'hour': ('00',), 'minute': ('18',), 'amount': (51.73,), 'use_chip': (0,), 'merchant_city': (3546,), 'errors': (18,), 'mcc': 5813}, 7: {'year': (2012,), 'month': (3,), 'day': (30,), 'hour': ('00',), 'minute': ('42',), 'amount': (56.28,), 'use_chip': (2,), 'merchant_city': (3546,), 'errors': (18,), 'mcc': 5813}, 8: {'year': (2010,), 'month': (4,), 'day': (5,), 'hour': ('00',), 'minute': ('04',), 'amount': (70.26,), 'use_chip': (2,), 'merchant_city': (3546,), 'errors': (18,), 'mcc': 5813}, 9: {'year': (2013,), 'month': (1,), 'day': (8,), 'hour': ('00',), 'minute': ('47',), 'amount': (64.17,), 'use_chip': (2,), 'merchant_city': (3546,), 'errors': (18,), 'mcc': 5813}, 10: {'year': (2013,), 'month': (9,), 'day': (5,), 'hour': ('00',), 'minute': ('17',), 'amount': (75.97,), 'use_chip': (2,), 'merchant_city': (3546,), 'errors': (18,), 'mcc': 5813}, 11: {'year': (2014,), 'month': (11,), 'day': (13,), 'hour': ('00',), 'minute': ('14',), 'amount': (61.06,), 'use_chip': (2,), 'merchant_city': (3546,), 'errors': (18,), 'mcc': 5813}, 12: {'year': (2017,), 'month': (12,), 'day': (8,), 'hour': ('01',), 'minute': ('02',), 'amount': (51.52,), 'use_chip': (0,), 'merchant_city': (3546,), 'errors': (18,), 'mcc': 5813}, 13: {'year': (2017,), 'month': (6,), 'day': (5,), 'hour': ('00',), 'minute': ('23',), 'amount': (63.35,), 'use_chip': (0,), 'merchant_city': (3546,), 'errors': (18,), 'mcc': 5813}, 14: {'year': (2012,), 'month': (12,), 'day': (31,), 'hour': ('00',), 'minute': ('00',), 'amount': (54.49,), 'use_chip': (2,), 'merchant_city': (3546,), 'errors': (18,), 'mcc': 5813}, 15: {'year': (2012,), 'month': (12,), 'day': (24,), 'hour': ('00',), 'minute': ('04',), 'amount': (29.29,), 'use_chip': (2,), 'merchant_city': (3546,), 'errors': (18,), 'mcc': 5813}, 16: {'year': (2016,), 'month': (10,), 'day': (24,), 'hour': ('00',), 'minute': ('01',), 'amount': (60.42,), 'use_chip': (0,), 'merchant_city': (3546,), 'errors': (18,), 'mcc': 5813}, 17: {'year': (2011,), 'month': (6,), 'day': (4,), 'hour': ('00',), 'minute': ('18',), 'amount': (50.95,), 'use_chip': (2,), 'merchant_city': (3546,), 'errors': (18,), 'mcc': 5813}, 18: {'year': (2018,), 'month': (12,), 'day': (28,), 'hour': ('00',), 'minute': ('19',), 'amount': (43.25,), 'use_chip': (0,), 'merchant_city': (3546,), 'errors': (18,), 'mcc': 5813}, 19: {'year': (2010,), 'month': (12,), 'day': (8,), 'hour': ('00',), 'minute': ('11',), 'amount': (54.24,), 'use_chip': (2,), 'merchant_city': (3546,), 'errors': (18,), 'mcc': 5813}, 20: {'year': (2013,), 'month': (9,), 'day': (2,), 'hour': ('00',), 'minute': ('09',), 'amount': (68.58,), 'use_chip': (2,), 'merchant_city': (3546,), 'errors': (18,), 'mcc': 5813}, 21: {'year': (2009,), 'month': (8,), 'day': (20,), 'hour': ('00',), 'minute': ('23',), 'amount': (46.49,), 'use_chip': (2,), 'merchant_city': (3546,), 'errors': (18,), 'mcc': 5813}, 22: {'year': (2014,), 'month': (5,), 'day': (3,), 'hour': ('00',), 'minute': ('18',), 'amount': (68.08,), 'use_chip': (2,), 'merchant_city': (3546,), 'errors': (18,), 'mcc': 5813}, 23: {'year': (2015,), 'month': (3,), 'day': (9,), 'hour': ('00',), 'minute': ('23',), 'amount': (57.45,), 'use_chip': (0,), 'merchant_city': (3546,), 'errors': (18,), 'mcc': 5813}, 24: {'year': (2015,), 'month': (5,), 'day': (19,), 'hour': ('00',), 'minute': ('11',), 'amount': (67.41,), 'use_chip': (0,), 'merchant_city': (3546,), 'errors': (18,), 'mcc': 5813}, 25: {'year': (2015,), 'month': (7,), 'day': (21,), 'hour': ('00',), 'minute': ('16',), 'amount': (56.92,), 'use_chip': (0,), 'merchant_city': (3546,), 'errors': (18,), 'mcc': 5813}, 26: {'year': (2017,), 'month': (2,), 'day': (26,), 'hour': ('00',), 'minute': ('25',), 'amount': (67.94,), 'use_chip': (0,), 'merchant_city': (3546,), 'errors': (18,), 'mcc': 5813}, 27: {'year': (2016,), 'month': (7,), 'day': (1,), 'hour': ('00',), 'minute': ('17',), 'amount': (57.27,), 'use_chip': (0,), 'merchant_city': (3546,), 'errors': (18,), 'mcc': 5813}, 28: {'year': (2015,), 'month': (3,), 'day': (7,), 'hour': ('00',), 'minute': ('20',), 'amount': (76.11,), 'use_chip': (0,), 'merchant_city': (3546,), 'errors': (18,), 'mcc': 5813}, 29: {'year': (2010,), 'month': (9,), 'day': (15,), 'hour': ('00',), 'minute': ('06',), 'amount': (53.06,), 'use_chip': (2,), 'merchant_city': (3546,), 'errors': (18,), 'mcc': 5813}, 30: {'year': (2014,), 'month': (5,), 'day': (29,), 'hour': ('00',), 'minute': ('20',), 'amount': (60.84,), 'use_chip': (2,), 'merchant_city': (3546,), 'errors': (18,), 'mcc': 5813}, 31: {'year': (2015,), 'month': (8,), 'day': (13,), 'hour': ('00',), 'minute': ('22',), 'amount': (52.86,), 'use_chip': (0,), 'merchant_city': (3546,), 'errors': (18,), 'mcc': 5813}, 32: {'year': (2015,), 'month': (12,), 'day': (1,), 'hour': ('01',), 'minute': ('08',), 'amount': (59.87,), 'use_chip': (0,), 'merchant_city': (3546,), 'errors': (18,), 'mcc': 5813}, 33: {'year': (2011,), 'month': (2,), 'day': (20,), 'hour': ('00',), 'minute': ('12',), 'amount': (63.78,), 'use_chip': (2,), 'merchant_city': (3546,), 'errors': (18,), 'mcc': 5813}, 34: {'year': (2011,), 'month': (7,), 'day': (16,), 'hour': ('00',), 'minute': ('29',), 'amount': (57.22,), 'use_chip': (2,), 'merchant_city': (3546,), 'errors': (18,), 'mcc': 5813}, 35: {'year': (2013,), 'month': (11,), 'day': (1,), 'hour': ('00',), 'minute': ('13',), 'amount': (60.16,), 'use_chip': (2,), 'merchant_city': (3546,), 'errors': (18,), 'mcc': 5813}, 36: {'year': (2017,), 'month': (3,), 'day': (16,), 'hour': ('00',), 'minute': ('18',), 'amount': (52.06,), 'use_chip': (0,), 'merchant_city': (3546,), 'errors': (18,), 'mcc': 5813}, 37: {'year': (2016,), 'month': (7,), 'day': (14,), 'hour': ('00',), 'minute': ('19',), 'amount': (64.52,), 'use_chip': (0,), 'merchant_city': (3546,), 'errors': (18,), 'mcc': 5813}, 38: {'year': (2014,), 'month': (5,), 'day': (27,), 'hour': ('00',), 'minute': ('17',), 'amount': (43.91,), 'use_chip': (2,), 'merchant_city': (3546,), 'errors': (18,), 'mcc': 5813}}\n",
            "{0: {'year': (2019,), 'month': (7,), 'day': (10,), 'hour': ('00',), 'minute': ('11',), 'amount': (59.18,), 'use_chip': (0,), 'merchant_city': (3546,), 'errors': (18,), 'mcc': 5813}, 1: {'year': (2019,), 'month': (10,), 'day': (1,), 'hour': ('00',), 'minute': ('22',), 'amount': (91.4,), 'use_chip': (0,), 'merchant_city': (3546,), 'errors': (18,), 'mcc': 5813}, 2: {'year': (2011,), 'month': (9,), 'day': (27,), 'hour': ('00',), 'minute': ('00',), 'amount': (64.21,), 'use_chip': (2,), 'merchant_city': (3546,), 'errors': (18,), 'mcc': 5813}, 3: {'year': (2011,), 'month': (11,), 'day': (11,), 'hour': ('00',), 'minute': ('04',), 'amount': (64.36,), 'use_chip': (2,), 'merchant_city': (3546,), 'errors': (18,), 'mcc': 5813}, 4: {'year': (2009,), 'month': (11,), 'day': (25,), 'hour': ('00',), 'minute': ('18',), 'amount': (52.75,), 'use_chip': (2,), 'merchant_city': (3546,), 'errors': (18,), 'mcc': 5813}, 5: {'year': (2013,), 'month': (5,), 'day': (20,), 'hour': ('00',), 'minute': ('21',), 'amount': (63.72,), 'use_chip': (2,), 'merchant_city': (3546,), 'errors': (18,), 'mcc': 5813}, 6: {'year': (2015,), 'month': (8,), 'day': (31,), 'hour': ('00',), 'minute': ('18',), 'amount': (51.73,), 'use_chip': (0,), 'merchant_city': (3546,), 'errors': (18,), 'mcc': 5813}, 7: {'year': (2012,), 'month': (3,), 'day': (30,), 'hour': ('00',), 'minute': ('42',), 'amount': (56.28,), 'use_chip': (2,), 'merchant_city': (3546,), 'errors': (18,), 'mcc': 5813}, 8: {'year': (2010,), 'month': (4,), 'day': (5,), 'hour': ('00',), 'minute': ('04',), 'amount': (70.26,), 'use_chip': (2,), 'merchant_city': (3546,), 'errors': (18,), 'mcc': 5813}, 9: {'year': (2013,), 'month': (1,), 'day': (8,), 'hour': ('00',), 'minute': ('47',), 'amount': (64.17,), 'use_chip': (2,), 'merchant_city': (3546,), 'errors': (18,), 'mcc': 5813}, 10: {'year': (2013,), 'month': (9,), 'day': (5,), 'hour': ('00',), 'minute': ('17',), 'amount': (75.97,), 'use_chip': (2,), 'merchant_city': (3546,), 'errors': (18,), 'mcc': 5813}, 11: {'year': (2014,), 'month': (11,), 'day': (13,), 'hour': ('00',), 'minute': ('14',), 'amount': (61.06,), 'use_chip': (2,), 'merchant_city': (3546,), 'errors': (18,), 'mcc': 5813}, 12: {'year': (2017,), 'month': (12,), 'day': (8,), 'hour': ('01',), 'minute': ('02',), 'amount': (51.52,), 'use_chip': (0,), 'merchant_city': (3546,), 'errors': (18,), 'mcc': 5813}, 13: {'year': (2017,), 'month': (6,), 'day': (5,), 'hour': ('00',), 'minute': ('23',), 'amount': (63.35,), 'use_chip': (0,), 'merchant_city': (3546,), 'errors': (18,), 'mcc': 5813}, 14: {'year': (2012,), 'month': (12,), 'day': (31,), 'hour': ('00',), 'minute': ('00',), 'amount': (54.49,), 'use_chip': (2,), 'merchant_city': (3546,), 'errors': (18,), 'mcc': 5813}, 15: {'year': (2012,), 'month': (12,), 'day': (24,), 'hour': ('00',), 'minute': ('04',), 'amount': (29.29,), 'use_chip': (2,), 'merchant_city': (3546,), 'errors': (18,), 'mcc': 5813}, 16: {'year': (2016,), 'month': (10,), 'day': (24,), 'hour': ('00',), 'minute': ('01',), 'amount': (60.42,), 'use_chip': (0,), 'merchant_city': (3546,), 'errors': (18,), 'mcc': 5813}, 17: {'year': (2011,), 'month': (6,), 'day': (4,), 'hour': ('00',), 'minute': ('18',), 'amount': (50.95,), 'use_chip': (2,), 'merchant_city': (3546,), 'errors': (18,), 'mcc': 5813}, 18: {'year': (2018,), 'month': (12,), 'day': (28,), 'hour': ('00',), 'minute': ('19',), 'amount': (43.25,), 'use_chip': (0,), 'merchant_city': (3546,), 'errors': (18,), 'mcc': 5813}, 19: {'year': (2010,), 'month': (12,), 'day': (8,), 'hour': ('00',), 'minute': ('11',), 'amount': (54.24,), 'use_chip': (2,), 'merchant_city': (3546,), 'errors': (18,), 'mcc': 5813}, 20: {'year': (2013,), 'month': (9,), 'day': (2,), 'hour': ('00',), 'minute': ('09',), 'amount': (68.58,), 'use_chip': (2,), 'merchant_city': (3546,), 'errors': (18,), 'mcc': 5813}, 21: {'year': (2009,), 'month': (8,), 'day': (20,), 'hour': ('00',), 'minute': ('23',), 'amount': (46.49,), 'use_chip': (2,), 'merchant_city': (3546,), 'errors': (18,), 'mcc': 5813}, 22: {'year': (2014,), 'month': (5,), 'day': (3,), 'hour': ('00',), 'minute': ('18',), 'amount': (68.08,), 'use_chip': (2,), 'merchant_city': (3546,), 'errors': (18,), 'mcc': 5813}, 23: {'year': (2015,), 'month': (3,), 'day': (9,), 'hour': ('00',), 'minute': ('23',), 'amount': (57.45,), 'use_chip': (0,), 'merchant_city': (3546,), 'errors': (18,), 'mcc': 5813}, 24: {'year': (2015,), 'month': (5,), 'day': (19,), 'hour': ('00',), 'minute': ('11',), 'amount': (67.41,), 'use_chip': (0,), 'merchant_city': (3546,), 'errors': (18,), 'mcc': 5813}, 25: {'year': (2015,), 'month': (7,), 'day': (21,), 'hour': ('00',), 'minute': ('16',), 'amount': (56.92,), 'use_chip': (0,), 'merchant_city': (3546,), 'errors': (18,), 'mcc': 5813}, 26: {'year': (2017,), 'month': (2,), 'day': (26,), 'hour': ('00',), 'minute': ('25',), 'amount': (67.94,), 'use_chip': (0,), 'merchant_city': (3546,), 'errors': (18,), 'mcc': 5813}, 27: {'year': (2016,), 'month': (7,), 'day': (1,), 'hour': ('00',), 'minute': ('17',), 'amount': (57.27,), 'use_chip': (0,), 'merchant_city': (3546,), 'errors': (18,), 'mcc': 5813}, 28: {'year': (2015,), 'month': (3,), 'day': (7,), 'hour': ('00',), 'minute': ('20',), 'amount': (76.11,), 'use_chip': (0,), 'merchant_city': (3546,), 'errors': (18,), 'mcc': 5813}, 29: {'year': (2010,), 'month': (9,), 'day': (15,), 'hour': ('00',), 'minute': ('06',), 'amount': (53.06,), 'use_chip': (2,), 'merchant_city': (3546,), 'errors': (18,), 'mcc': 5813}, 30: {'year': (2014,), 'month': (5,), 'day': (29,), 'hour': ('00',), 'minute': ('20',), 'amount': (60.84,), 'use_chip': (2,), 'merchant_city': (3546,), 'errors': (18,), 'mcc': 5813}, 31: {'year': (2015,), 'month': (8,), 'day': (13,), 'hour': ('00',), 'minute': ('22',), 'amount': (52.86,), 'use_chip': (0,), 'merchant_city': (3546,), 'errors': (18,), 'mcc': 5813}, 32: {'year': (2015,), 'month': (12,), 'day': (1,), 'hour': ('01',), 'minute': ('08',), 'amount': (59.87,), 'use_chip': (0,), 'merchant_city': (3546,), 'errors': (18,), 'mcc': 5813}, 33: {'year': (2011,), 'month': (2,), 'day': (20,), 'hour': ('00',), 'minute': ('12',), 'amount': (63.78,), 'use_chip': (2,), 'merchant_city': (3546,), 'errors': (18,), 'mcc': 5813}, 34: {'year': (2011,), 'month': (7,), 'day': (16,), 'hour': ('00',), 'minute': ('29',), 'amount': (57.22,), 'use_chip': (2,), 'merchant_city': (3546,), 'errors': (18,), 'mcc': 5813}, 35: {'year': (2013,), 'month': (11,), 'day': (1,), 'hour': ('00',), 'minute': ('13',), 'amount': (60.16,), 'use_chip': (2,), 'merchant_city': (3546,), 'errors': (18,), 'mcc': 5813}, 36: {'year': (2017,), 'month': (3,), 'day': (16,), 'hour': ('00',), 'minute': ('18',), 'amount': (52.06,), 'use_chip': (0,), 'merchant_city': (3546,), 'errors': (18,), 'mcc': 5813}, 37: {'year': (2016,), 'month': (7,), 'day': (14,), 'hour': ('00',), 'minute': ('19',), 'amount': (64.52,), 'use_chip': (0,), 'merchant_city': (3546,), 'errors': (18,), 'mcc': 5813}, 38: {'year': (2014,), 'month': (5,), 'day': (27,), 'hour': ('00',), 'minute': ('17',), 'amount': (43.91,), 'use_chip': (2,), 'merchant_city': (3546,), 'errors': (18,), 'mcc': 5813}}\n",
            "{0: {'year': (2019,), 'month': (7,), 'day': (10,), 'hour': ('00',), 'minute': ('11',), 'amount': (59.18,), 'use_chip': (0,), 'merchant_city': (3546,), 'errors': (18,), 'mcc': 5813}, 1: {'year': (2019,), 'month': (10,), 'day': (1,), 'hour': ('00',), 'minute': ('22',), 'amount': (91.4,), 'use_chip': (0,), 'merchant_city': (3546,), 'errors': (18,), 'mcc': 5813}, 2: {'year': (2011,), 'month': (9,), 'day': (27,), 'hour': ('00',), 'minute': ('00',), 'amount': (64.21,), 'use_chip': (2,), 'merchant_city': (3546,), 'errors': (18,), 'mcc': 5813}, 3: {'year': (2011,), 'month': (11,), 'day': (11,), 'hour': ('00',), 'minute': ('04',), 'amount': (64.36,), 'use_chip': (2,), 'merchant_city': (3546,), 'errors': (18,), 'mcc': 5813}, 4: {'year': (2009,), 'month': (11,), 'day': (25,), 'hour': ('00',), 'minute': ('18',), 'amount': (52.75,), 'use_chip': (2,), 'merchant_city': (3546,), 'errors': (18,), 'mcc': 5813}, 5: {'year': (2013,), 'month': (5,), 'day': (20,), 'hour': ('00',), 'minute': ('21',), 'amount': (63.72,), 'use_chip': (2,), 'merchant_city': (3546,), 'errors': (18,), 'mcc': 5813}, 6: {'year': (2015,), 'month': (8,), 'day': (31,), 'hour': ('00',), 'minute': ('18',), 'amount': (51.73,), 'use_chip': (0,), 'merchant_city': (3546,), 'errors': (18,), 'mcc': 5813}, 7: {'year': (2012,), 'month': (3,), 'day': (30,), 'hour': ('00',), 'minute': ('42',), 'amount': (56.28,), 'use_chip': (2,), 'merchant_city': (3546,), 'errors': (18,), 'mcc': 5813}, 8: {'year': (2010,), 'month': (4,), 'day': (5,), 'hour': ('00',), 'minute': ('04',), 'amount': (70.26,), 'use_chip': (2,), 'merchant_city': (3546,), 'errors': (18,), 'mcc': 5813}, 9: {'year': (2013,), 'month': (1,), 'day': (8,), 'hour': ('00',), 'minute': ('47',), 'amount': (64.17,), 'use_chip': (2,), 'merchant_city': (3546,), 'errors': (18,), 'mcc': 5813}, 10: {'year': (2013,), 'month': (9,), 'day': (5,), 'hour': ('00',), 'minute': ('17',), 'amount': (75.97,), 'use_chip': (2,), 'merchant_city': (3546,), 'errors': (18,), 'mcc': 5813}, 11: {'year': (2014,), 'month': (11,), 'day': (13,), 'hour': ('00',), 'minute': ('14',), 'amount': (61.06,), 'use_chip': (2,), 'merchant_city': (3546,), 'errors': (18,), 'mcc': 5813}, 12: {'year': (2017,), 'month': (12,), 'day': (8,), 'hour': ('01',), 'minute': ('02',), 'amount': (51.52,), 'use_chip': (0,), 'merchant_city': (3546,), 'errors': (18,), 'mcc': 5813}, 13: {'year': (2017,), 'month': (6,), 'day': (5,), 'hour': ('00',), 'minute': ('23',), 'amount': (63.35,), 'use_chip': (0,), 'merchant_city': (3546,), 'errors': (18,), 'mcc': 5813}, 14: {'year': (2012,), 'month': (12,), 'day': (31,), 'hour': ('00',), 'minute': ('00',), 'amount': (54.49,), 'use_chip': (2,), 'merchant_city': (3546,), 'errors': (18,), 'mcc': 5813}, 15: {'year': (2012,), 'month': (12,), 'day': (24,), 'hour': ('00',), 'minute': ('04',), 'amount': (29.29,), 'use_chip': (2,), 'merchant_city': (3546,), 'errors': (18,), 'mcc': 5813}, 16: {'year': (2016,), 'month': (10,), 'day': (24,), 'hour': ('00',), 'minute': ('01',), 'amount': (60.42,), 'use_chip': (0,), 'merchant_city': (3546,), 'errors': (18,), 'mcc': 5813}, 17: {'year': (2011,), 'month': (6,), 'day': (4,), 'hour': ('00',), 'minute': ('18',), 'amount': (50.95,), 'use_chip': (2,), 'merchant_city': (3546,), 'errors': (18,), 'mcc': 5813}, 18: {'year': (2018,), 'month': (12,), 'day': (28,), 'hour': ('00',), 'minute': ('19',), 'amount': (43.25,), 'use_chip': (0,), 'merchant_city': (3546,), 'errors': (18,), 'mcc': 5813}, 19: {'year': (2010,), 'month': (12,), 'day': (8,), 'hour': ('00',), 'minute': ('11',), 'amount': (54.24,), 'use_chip': (2,), 'merchant_city': (3546,), 'errors': (18,), 'mcc': 5813}, 20: {'year': (2013,), 'month': (9,), 'day': (2,), 'hour': ('00',), 'minute': ('09',), 'amount': (68.58,), 'use_chip': (2,), 'merchant_city': (3546,), 'errors': (18,), 'mcc': 5813}, 21: {'year': (2009,), 'month': (8,), 'day': (20,), 'hour': ('00',), 'minute': ('23',), 'amount': (46.49,), 'use_chip': (2,), 'merchant_city': (3546,), 'errors': (18,), 'mcc': 5813}, 22: {'year': (2014,), 'month': (5,), 'day': (3,), 'hour': ('00',), 'minute': ('18',), 'amount': (68.08,), 'use_chip': (2,), 'merchant_city': (3546,), 'errors': (18,), 'mcc': 5813}, 23: {'year': (2015,), 'month': (3,), 'day': (9,), 'hour': ('00',), 'minute': ('23',), 'amount': (57.45,), 'use_chip': (0,), 'merchant_city': (3546,), 'errors': (18,), 'mcc': 5813}, 24: {'year': (2015,), 'month': (5,), 'day': (19,), 'hour': ('00',), 'minute': ('11',), 'amount': (67.41,), 'use_chip': (0,), 'merchant_city': (3546,), 'errors': (18,), 'mcc': 5813}, 25: {'year': (2015,), 'month': (7,), 'day': (21,), 'hour': ('00',), 'minute': ('16',), 'amount': (56.92,), 'use_chip': (0,), 'merchant_city': (3546,), 'errors': (18,), 'mcc': 5813}, 26: {'year': (2017,), 'month': (2,), 'day': (26,), 'hour': ('00',), 'minute': ('25',), 'amount': (67.94,), 'use_chip': (0,), 'merchant_city': (3546,), 'errors': (18,), 'mcc': 5813}, 27: {'year': (2016,), 'month': (7,), 'day': (1,), 'hour': ('00',), 'minute': ('17',), 'amount': (57.27,), 'use_chip': (0,), 'merchant_city': (3546,), 'errors': (18,), 'mcc': 5813}, 28: {'year': (2015,), 'month': (3,), 'day': (7,), 'hour': ('00',), 'minute': ('20',), 'amount': (76.11,), 'use_chip': (0,), 'merchant_city': (3546,), 'errors': (18,), 'mcc': 5813}, 29: {'year': (2010,), 'month': (9,), 'day': (15,), 'hour': ('00',), 'minute': ('06',), 'amount': (53.06,), 'use_chip': (2,), 'merchant_city': (3546,), 'errors': (18,), 'mcc': 5813}, 30: {'year': (2014,), 'month': (5,), 'day': (29,), 'hour': ('00',), 'minute': ('20',), 'amount': (60.84,), 'use_chip': (2,), 'merchant_city': (3546,), 'errors': (18,), 'mcc': 5813}, 31: {'year': (2015,), 'month': (8,), 'day': (13,), 'hour': ('00',), 'minute': ('22',), 'amount': (52.86,), 'use_chip': (0,), 'merchant_city': (3546,), 'errors': (18,), 'mcc': 5813}, 32: {'year': (2015,), 'month': (12,), 'day': (1,), 'hour': ('01',), 'minute': ('08',), 'amount': (59.87,), 'use_chip': (0,), 'merchant_city': (3546,), 'errors': (18,), 'mcc': 5813}, 33: {'year': (2011,), 'month': (2,), 'day': (20,), 'hour': ('00',), 'minute': ('12',), 'amount': (63.78,), 'use_chip': (2,), 'merchant_city': (3546,), 'errors': (18,), 'mcc': 5813}, 34: {'year': (2011,), 'month': (7,), 'day': (16,), 'hour': ('00',), 'minute': ('29',), 'amount': (57.22,), 'use_chip': (2,), 'merchant_city': (3546,), 'errors': (18,), 'mcc': 5813}, 35: {'year': (2013,), 'month': (11,), 'day': (1,), 'hour': ('00',), 'minute': ('13',), 'amount': (60.16,), 'use_chip': (2,), 'merchant_city': (3546,), 'errors': (18,), 'mcc': 5813}, 36: {'year': (2017,), 'month': (3,), 'day': (16,), 'hour': ('00',), 'minute': ('18',), 'amount': (52.06,), 'use_chip': (0,), 'merchant_city': (3546,), 'errors': (18,), 'mcc': 5813}, 37: {'year': (2016,), 'month': (7,), 'day': (14,), 'hour': ('00',), 'minute': ('19',), 'amount': (64.52,), 'use_chip': (0,), 'merchant_city': (3546,), 'errors': (18,), 'mcc': 5813}, 38: {'year': (2014,), 'month': (5,), 'day': (27,), 'hour': ('00',), 'minute': ('17',), 'amount': (43.91,), 'use_chip': (2,), 'merchant_city': (3546,), 'errors': (18,), 'mcc': 5813}}\n",
            "{0: {'year': (2019,), 'month': (7,), 'day': (10,), 'hour': ('00',), 'minute': ('11',), 'amount': (59.18,), 'use_chip': (0,), 'merchant_city': (3546,), 'errors': (18,), 'mcc': 5813}, 1: {'year': (2019,), 'month': (10,), 'day': (1,), 'hour': ('00',), 'minute': ('22',), 'amount': (91.4,), 'use_chip': (0,), 'merchant_city': (3546,), 'errors': (18,), 'mcc': 5813}, 2: {'year': (2011,), 'month': (9,), 'day': (27,), 'hour': ('00',), 'minute': ('00',), 'amount': (64.21,), 'use_chip': (2,), 'merchant_city': (3546,), 'errors': (18,), 'mcc': 5813}, 3: {'year': (2011,), 'month': (11,), 'day': (11,), 'hour': ('00',), 'minute': ('04',), 'amount': (64.36,), 'use_chip': (2,), 'merchant_city': (3546,), 'errors': (18,), 'mcc': 5813}, 4: {'year': (2009,), 'month': (11,), 'day': (25,), 'hour': ('00',), 'minute': ('18',), 'amount': (52.75,), 'use_chip': (2,), 'merchant_city': (3546,), 'errors': (18,), 'mcc': 5813}, 5: {'year': (2013,), 'month': (5,), 'day': (20,), 'hour': ('00',), 'minute': ('21',), 'amount': (63.72,), 'use_chip': (2,), 'merchant_city': (3546,), 'errors': (18,), 'mcc': 5813}, 6: {'year': (2015,), 'month': (8,), 'day': (31,), 'hour': ('00',), 'minute': ('18',), 'amount': (51.73,), 'use_chip': (0,), 'merchant_city': (3546,), 'errors': (18,), 'mcc': 5813}, 7: {'year': (2012,), 'month': (3,), 'day': (30,), 'hour': ('00',), 'minute': ('42',), 'amount': (56.28,), 'use_chip': (2,), 'merchant_city': (3546,), 'errors': (18,), 'mcc': 5813}, 8: {'year': (2010,), 'month': (4,), 'day': (5,), 'hour': ('00',), 'minute': ('04',), 'amount': (70.26,), 'use_chip': (2,), 'merchant_city': (3546,), 'errors': (18,), 'mcc': 5813}, 9: {'year': (2013,), 'month': (1,), 'day': (8,), 'hour': ('00',), 'minute': ('47',), 'amount': (64.17,), 'use_chip': (2,), 'merchant_city': (3546,), 'errors': (18,), 'mcc': 5813}, 10: {'year': (2013,), 'month': (9,), 'day': (5,), 'hour': ('00',), 'minute': ('17',), 'amount': (75.97,), 'use_chip': (2,), 'merchant_city': (3546,), 'errors': (18,), 'mcc': 5813}, 11: {'year': (2014,), 'month': (11,), 'day': (13,), 'hour': ('00',), 'minute': ('14',), 'amount': (61.06,), 'use_chip': (2,), 'merchant_city': (3546,), 'errors': (18,), 'mcc': 5813}, 12: {'year': (2017,), 'month': (12,), 'day': (8,), 'hour': ('01',), 'minute': ('02',), 'amount': (51.52,), 'use_chip': (0,), 'merchant_city': (3546,), 'errors': (18,), 'mcc': 5813}, 13: {'year': (2017,), 'month': (6,), 'day': (5,), 'hour': ('00',), 'minute': ('23',), 'amount': (63.35,), 'use_chip': (0,), 'merchant_city': (3546,), 'errors': (18,), 'mcc': 5813}, 14: {'year': (2012,), 'month': (12,), 'day': (31,), 'hour': ('00',), 'minute': ('00',), 'amount': (54.49,), 'use_chip': (2,), 'merchant_city': (3546,), 'errors': (18,), 'mcc': 5813}, 15: {'year': (2012,), 'month': (12,), 'day': (24,), 'hour': ('00',), 'minute': ('04',), 'amount': (29.29,), 'use_chip': (2,), 'merchant_city': (3546,), 'errors': (18,), 'mcc': 5813}, 16: {'year': (2016,), 'month': (10,), 'day': (24,), 'hour': ('00',), 'minute': ('01',), 'amount': (60.42,), 'use_chip': (0,), 'merchant_city': (3546,), 'errors': (18,), 'mcc': 5813}, 17: {'year': (2011,), 'month': (6,), 'day': (4,), 'hour': ('00',), 'minute': ('18',), 'amount': (50.95,), 'use_chip': (2,), 'merchant_city': (3546,), 'errors': (18,), 'mcc': 5813}, 18: {'year': (2018,), 'month': (12,), 'day': (28,), 'hour': ('00',), 'minute': ('19',), 'amount': (43.25,), 'use_chip': (0,), 'merchant_city': (3546,), 'errors': (18,), 'mcc': 5813}, 19: {'year': (2010,), 'month': (12,), 'day': (8,), 'hour': ('00',), 'minute': ('11',), 'amount': (54.24,), 'use_chip': (2,), 'merchant_city': (3546,), 'errors': (18,), 'mcc': 5813}, 20: {'year': (2013,), 'month': (9,), 'day': (2,), 'hour': ('00',), 'minute': ('09',), 'amount': (68.58,), 'use_chip': (2,), 'merchant_city': (3546,), 'errors': (18,), 'mcc': 5813}, 21: {'year': (2009,), 'month': (8,), 'day': (20,), 'hour': ('00',), 'minute': ('23',), 'amount': (46.49,), 'use_chip': (2,), 'merchant_city': (3546,), 'errors': (18,), 'mcc': 5813}, 22: {'year': (2014,), 'month': (5,), 'day': (3,), 'hour': ('00',), 'minute': ('18',), 'amount': (68.08,), 'use_chip': (2,), 'merchant_city': (3546,), 'errors': (18,), 'mcc': 5813}, 23: {'year': (2015,), 'month': (3,), 'day': (9,), 'hour': ('00',), 'minute': ('23',), 'amount': (57.45,), 'use_chip': (0,), 'merchant_city': (3546,), 'errors': (18,), 'mcc': 5813}, 24: {'year': (2015,), 'month': (5,), 'day': (19,), 'hour': ('00',), 'minute': ('11',), 'amount': (67.41,), 'use_chip': (0,), 'merchant_city': (3546,), 'errors': (18,), 'mcc': 5813}, 25: {'year': (2015,), 'month': (7,), 'day': (21,), 'hour': ('00',), 'minute': ('16',), 'amount': (56.92,), 'use_chip': (0,), 'merchant_city': (3546,), 'errors': (18,), 'mcc': 5813}, 26: {'year': (2017,), 'month': (2,), 'day': (26,), 'hour': ('00',), 'minute': ('25',), 'amount': (67.94,), 'use_chip': (0,), 'merchant_city': (3546,), 'errors': (18,), 'mcc': 5813}, 27: {'year': (2016,), 'month': (7,), 'day': (1,), 'hour': ('00',), 'minute': ('17',), 'amount': (57.27,), 'use_chip': (0,), 'merchant_city': (3546,), 'errors': (18,), 'mcc': 5813}, 28: {'year': (2015,), 'month': (3,), 'day': (7,), 'hour': ('00',), 'minute': ('20',), 'amount': (76.11,), 'use_chip': (0,), 'merchant_city': (3546,), 'errors': (18,), 'mcc': 5813}, 29: {'year': (2010,), 'month': (9,), 'day': (15,), 'hour': ('00',), 'minute': ('06',), 'amount': (53.06,), 'use_chip': (2,), 'merchant_city': (3546,), 'errors': (18,), 'mcc': 5813}, 30: {'year': (2014,), 'month': (5,), 'day': (29,), 'hour': ('00',), 'minute': ('20',), 'amount': (60.84,), 'use_chip': (2,), 'merchant_city': (3546,), 'errors': (18,), 'mcc': 5813}, 31: {'year': (2015,), 'month': (8,), 'day': (13,), 'hour': ('00',), 'minute': ('22',), 'amount': (52.86,), 'use_chip': (0,), 'merchant_city': (3546,), 'errors': (18,), 'mcc': 5813}, 32: {'year': (2015,), 'month': (12,), 'day': (1,), 'hour': ('01',), 'minute': ('08',), 'amount': (59.87,), 'use_chip': (0,), 'merchant_city': (3546,), 'errors': (18,), 'mcc': 5813}, 33: {'year': (2011,), 'month': (2,), 'day': (20,), 'hour': ('00',), 'minute': ('12',), 'amount': (63.78,), 'use_chip': (2,), 'merchant_city': (3546,), 'errors': (18,), 'mcc': 5813}, 34: {'year': (2011,), 'month': (7,), 'day': (16,), 'hour': ('00',), 'minute': ('29',), 'amount': (57.22,), 'use_chip': (2,), 'merchant_city': (3546,), 'errors': (18,), 'mcc': 5813}, 35: {'year': (2013,), 'month': (11,), 'day': (1,), 'hour': ('00',), 'minute': ('13',), 'amount': (60.16,), 'use_chip': (2,), 'merchant_city': (3546,), 'errors': (18,), 'mcc': 5813}, 36: {'year': (2017,), 'month': (3,), 'day': (16,), 'hour': ('00',), 'minute': ('18',), 'amount': (52.06,), 'use_chip': (0,), 'merchant_city': (3546,), 'errors': (18,), 'mcc': 5813}, 37: {'year': (2016,), 'month': (7,), 'day': (14,), 'hour': ('00',), 'minute': ('19',), 'amount': (64.52,), 'use_chip': (0,), 'merchant_city': (3546,), 'errors': (18,), 'mcc': 5813}, 38: {'year': (2014,), 'month': (5,), 'day': (27,), 'hour': ('00',), 'minute': ('17',), 'amount': (43.91,), 'use_chip': (2,), 'merchant_city': (3546,), 'errors': (18,), 'mcc': 5813}}\n",
            "{0: {'year': (2019,), 'month': (7,), 'day': (10,), 'hour': ('00',), 'minute': ('11',), 'amount': (59.18,), 'use_chip': (0,), 'merchant_city': (3546,), 'errors': (18,), 'mcc': 5813}, 1: {'year': (2019,), 'month': (10,), 'day': (1,), 'hour': ('00',), 'minute': ('22',), 'amount': (91.4,), 'use_chip': (0,), 'merchant_city': (3546,), 'errors': (18,), 'mcc': 5813}, 2: {'year': (2011,), 'month': (9,), 'day': (27,), 'hour': ('00',), 'minute': ('00',), 'amount': (64.21,), 'use_chip': (2,), 'merchant_city': (3546,), 'errors': (18,), 'mcc': 5813}, 3: {'year': (2011,), 'month': (11,), 'day': (11,), 'hour': ('00',), 'minute': ('04',), 'amount': (64.36,), 'use_chip': (2,), 'merchant_city': (3546,), 'errors': (18,), 'mcc': 5813}, 4: {'year': (2009,), 'month': (11,), 'day': (25,), 'hour': ('00',), 'minute': ('18',), 'amount': (52.75,), 'use_chip': (2,), 'merchant_city': (3546,), 'errors': (18,), 'mcc': 5813}, 5: {'year': (2013,), 'month': (5,), 'day': (20,), 'hour': ('00',), 'minute': ('21',), 'amount': (63.72,), 'use_chip': (2,), 'merchant_city': (3546,), 'errors': (18,), 'mcc': 5813}, 6: {'year': (2015,), 'month': (8,), 'day': (31,), 'hour': ('00',), 'minute': ('18',), 'amount': (51.73,), 'use_chip': (0,), 'merchant_city': (3546,), 'errors': (18,), 'mcc': 5813}, 7: {'year': (2012,), 'month': (3,), 'day': (30,), 'hour': ('00',), 'minute': ('42',), 'amount': (56.28,), 'use_chip': (2,), 'merchant_city': (3546,), 'errors': (18,), 'mcc': 5813}, 8: {'year': (2010,), 'month': (4,), 'day': (5,), 'hour': ('00',), 'minute': ('04',), 'amount': (70.26,), 'use_chip': (2,), 'merchant_city': (3546,), 'errors': (18,), 'mcc': 5813}, 9: {'year': (2013,), 'month': (1,), 'day': (8,), 'hour': ('00',), 'minute': ('47',), 'amount': (64.17,), 'use_chip': (2,), 'merchant_city': (3546,), 'errors': (18,), 'mcc': 5813}, 10: {'year': (2013,), 'month': (9,), 'day': (5,), 'hour': ('00',), 'minute': ('17',), 'amount': (75.97,), 'use_chip': (2,), 'merchant_city': (3546,), 'errors': (18,), 'mcc': 5813}, 11: {'year': (2014,), 'month': (11,), 'day': (13,), 'hour': ('00',), 'minute': ('14',), 'amount': (61.06,), 'use_chip': (2,), 'merchant_city': (3546,), 'errors': (18,), 'mcc': 5813}, 12: {'year': (2017,), 'month': (12,), 'day': (8,), 'hour': ('01',), 'minute': ('02',), 'amount': (51.52,), 'use_chip': (0,), 'merchant_city': (3546,), 'errors': (18,), 'mcc': 5813}, 13: {'year': (2017,), 'month': (6,), 'day': (5,), 'hour': ('00',), 'minute': ('23',), 'amount': (63.35,), 'use_chip': (0,), 'merchant_city': (3546,), 'errors': (18,), 'mcc': 5813}, 14: {'year': (2012,), 'month': (12,), 'day': (31,), 'hour': ('00',), 'minute': ('00',), 'amount': (54.49,), 'use_chip': (2,), 'merchant_city': (3546,), 'errors': (18,), 'mcc': 5813}, 15: {'year': (2012,), 'month': (12,), 'day': (24,), 'hour': ('00',), 'minute': ('04',), 'amount': (29.29,), 'use_chip': (2,), 'merchant_city': (3546,), 'errors': (18,), 'mcc': 5813}, 16: {'year': (2016,), 'month': (10,), 'day': (24,), 'hour': ('00',), 'minute': ('01',), 'amount': (60.42,), 'use_chip': (0,), 'merchant_city': (3546,), 'errors': (18,), 'mcc': 5813}, 17: {'year': (2011,), 'month': (6,), 'day': (4,), 'hour': ('00',), 'minute': ('18',), 'amount': (50.95,), 'use_chip': (2,), 'merchant_city': (3546,), 'errors': (18,), 'mcc': 5813}, 18: {'year': (2018,), 'month': (12,), 'day': (28,), 'hour': ('00',), 'minute': ('19',), 'amount': (43.25,), 'use_chip': (0,), 'merchant_city': (3546,), 'errors': (18,), 'mcc': 5813}, 19: {'year': (2010,), 'month': (12,), 'day': (8,), 'hour': ('00',), 'minute': ('11',), 'amount': (54.24,), 'use_chip': (2,), 'merchant_city': (3546,), 'errors': (18,), 'mcc': 5813}, 20: {'year': (2013,), 'month': (9,), 'day': (2,), 'hour': ('00',), 'minute': ('09',), 'amount': (68.58,), 'use_chip': (2,), 'merchant_city': (3546,), 'errors': (18,), 'mcc': 5813}, 21: {'year': (2009,), 'month': (8,), 'day': (20,), 'hour': ('00',), 'minute': ('23',), 'amount': (46.49,), 'use_chip': (2,), 'merchant_city': (3546,), 'errors': (18,), 'mcc': 5813}, 22: {'year': (2014,), 'month': (5,), 'day': (3,), 'hour': ('00',), 'minute': ('18',), 'amount': (68.08,), 'use_chip': (2,), 'merchant_city': (3546,), 'errors': (18,), 'mcc': 5813}, 23: {'year': (2015,), 'month': (3,), 'day': (9,), 'hour': ('00',), 'minute': ('23',), 'amount': (57.45,), 'use_chip': (0,), 'merchant_city': (3546,), 'errors': (18,), 'mcc': 5813}, 24: {'year': (2015,), 'month': (5,), 'day': (19,), 'hour': ('00',), 'minute': ('11',), 'amount': (67.41,), 'use_chip': (0,), 'merchant_city': (3546,), 'errors': (18,), 'mcc': 5813}, 25: {'year': (2015,), 'month': (7,), 'day': (21,), 'hour': ('00',), 'minute': ('16',), 'amount': (56.92,), 'use_chip': (0,), 'merchant_city': (3546,), 'errors': (18,), 'mcc': 5813}, 26: {'year': (2017,), 'month': (2,), 'day': (26,), 'hour': ('00',), 'minute': ('25',), 'amount': (67.94,), 'use_chip': (0,), 'merchant_city': (3546,), 'errors': (18,), 'mcc': 5813}, 27: {'year': (2016,), 'month': (7,), 'day': (1,), 'hour': ('00',), 'minute': ('17',), 'amount': (57.27,), 'use_chip': (0,), 'merchant_city': (3546,), 'errors': (18,), 'mcc': 5813}, 28: {'year': (2015,), 'month': (3,), 'day': (7,), 'hour': ('00',), 'minute': ('20',), 'amount': (76.11,), 'use_chip': (0,), 'merchant_city': (3546,), 'errors': (18,), 'mcc': 5813}, 29: {'year': (2010,), 'month': (9,), 'day': (15,), 'hour': ('00',), 'minute': ('06',), 'amount': (53.06,), 'use_chip': (2,), 'merchant_city': (3546,), 'errors': (18,), 'mcc': 5813}, 30: {'year': (2014,), 'month': (5,), 'day': (29,), 'hour': ('00',), 'minute': ('20',), 'amount': (60.84,), 'use_chip': (2,), 'merchant_city': (3546,), 'errors': (18,), 'mcc': 5813}, 31: {'year': (2015,), 'month': (8,), 'day': (13,), 'hour': ('00',), 'minute': ('22',), 'amount': (52.86,), 'use_chip': (0,), 'merchant_city': (3546,), 'errors': (18,), 'mcc': 5813}, 32: {'year': (2015,), 'month': (12,), 'day': (1,), 'hour': ('01',), 'minute': ('08',), 'amount': (59.87,), 'use_chip': (0,), 'merchant_city': (3546,), 'errors': (18,), 'mcc': 5813}, 33: {'year': (2011,), 'month': (2,), 'day': (20,), 'hour': ('00',), 'minute': ('12',), 'amount': (63.78,), 'use_chip': (2,), 'merchant_city': (3546,), 'errors': (18,), 'mcc': 5813}, 34: {'year': (2011,), 'month': (7,), 'day': (16,), 'hour': ('00',), 'minute': ('29',), 'amount': (57.22,), 'use_chip': (2,), 'merchant_city': (3546,), 'errors': (18,), 'mcc': 5813}, 35: {'year': (2013,), 'month': (11,), 'day': (1,), 'hour': ('00',), 'minute': ('13',), 'amount': (60.16,), 'use_chip': (2,), 'merchant_city': (3546,), 'errors': (18,), 'mcc': 5813}, 36: {'year': (2017,), 'month': (3,), 'day': (16,), 'hour': ('00',), 'minute': ('18',), 'amount': (52.06,), 'use_chip': (0,), 'merchant_city': (3546,), 'errors': (18,), 'mcc': 5813}, 37: {'year': (2016,), 'month': (7,), 'day': (14,), 'hour': ('00',), 'minute': ('19',), 'amount': (64.52,), 'use_chip': (0,), 'merchant_city': (3546,), 'errors': (18,), 'mcc': 5813}, 38: {'year': (2014,), 'month': (5,), 'day': (27,), 'hour': ('00',), 'minute': ('17',), 'amount': (43.91,), 'use_chip': (2,), 'merchant_city': (3546,), 'errors': (18,), 'mcc': 5813}}\n"
          ]
        }
      ],
      "source": [
        "sample_size = 5\n",
        "for i, edge in enumerate(G.edges()):\n",
        "    print(G.get_edge_data(*edge))\n",
        "    if i >= sample_size - 1:\n",
        "        break"
      ]
    },
    {
      "cell_type": "markdown",
      "metadata": {
        "id": "K5RkbOE469Ro"
      },
      "source": [
        "We will retrieve the properties of a small sample of **edges** in our graph (G) and print their properties."
      ]
    },
    {
      "cell_type": "code",
      "execution_count": 28,
      "metadata": {
        "execution": {
          "iopub.execute_input": "2023-01-16T21:05:57.872391Z",
          "iopub.status.busy": "2023-01-16T21:05:57.871964Z",
          "iopub.status.idle": "2023-01-16T21:05:58.134277Z",
          "shell.execute_reply": "2023-01-16T21:05:58.133092Z",
          "shell.execute_reply.started": "2023-01-16T21:05:57.872358Z"
        },
        "id": "4h6MRg7B69Rp",
        "colab": {
          "base_uri": "https://localhost:8080/"
        },
        "outputId": "c6d10711-33db-47f4-bee7-981ee9dad82f"
      },
      "outputs": [
        {
          "output_type": "stream",
          "name": "stdout",
          "text": [
            "Property value: (18,), Count: 984212\n",
            "Property value: (11,), Count: 2367\n",
            "Property value: (19,), Count: 1889\n",
            "Property value: (16,), Count: 9973\n",
            "Property value: (3,), Count: 533\n",
            "Property value: (0,), Count: 426\n",
            "Property value: (17,), Count: 14\n",
            "Property value: (14,), Count: 82\n",
            "Property value: (7,), Count: 436\n",
            "Property value: (12,), Count: 32\n",
            "Property value: (5,), Count: 4\n",
            "Property value: (8,), Count: 3\n",
            "Property value: (13,), Count: 7\n",
            "Property value: (6,), Count: 8\n",
            "Property value: (1,), Count: 3\n",
            "Property value: (4,), Count: 4\n",
            "Property value: (2,), Count: 1\n",
            "Property value: (9,), Count: 4\n",
            "Property value: (10,), Count: 1\n",
            "Property value: (15,), Count: 1\n"
          ]
        }
      ],
      "source": [
        "# Retrieve the properties errors of all the edges\n",
        "edge_properties = nx.get_edge_attributes(G, 'errors')\n",
        "\n",
        "# Count the number of edges by property value\n",
        "edge_count_by_property = Counter(edge_properties.values())\n",
        "\n",
        "# Print the count of edges by property value\n",
        "for property_value, count in edge_count_by_property.items():\n",
        "    print(f\"Property value: {property_value}, Count: {count}\")\n"
      ]
    },
    {
      "cell_type": "code",
      "execution_count": 29,
      "metadata": {
        "execution": {
          "iopub.execute_input": "2023-01-16T21:05:58.136545Z",
          "iopub.status.busy": "2023-01-16T21:05:58.136192Z",
          "iopub.status.idle": "2023-01-16T21:05:58.387685Z",
          "shell.execute_reply": "2023-01-16T21:05:58.386486Z",
          "shell.execute_reply.started": "2023-01-16T21:05:58.136505Z"
        },
        "id": "-Z5GHpaO69Rr"
      },
      "outputs": [],
      "source": [
        "# Prepare the data for input into the model\n",
        "edge_list = list(G.edges(data=True))"
      ]
    },
    {
      "cell_type": "code",
      "execution_count": 30,
      "metadata": {
        "execution": {
          "iopub.execute_input": "2023-01-16T21:05:58.390302Z",
          "iopub.status.busy": "2023-01-16T21:05:58.389431Z",
          "iopub.status.idle": "2023-01-16T21:05:58.398607Z",
          "shell.execute_reply": "2023-01-16T21:05:58.397775Z",
          "shell.execute_reply.started": "2023-01-16T21:05:58.390255Z"
        },
        "id": "oOIcpz5H69Rs",
        "colab": {
          "base_uri": "https://localhost:8080/"
        },
        "outputId": "4215acbf-74a7-4d41-b8b8-fb611849c257"
      },
      "outputs": [
        {
          "output_type": "execute_result",
          "data": {
            "text/plain": [
              "[(2009,), (11,), (25,), ('00',), ('18',), (52.75,), (2,), (3546,), (18,), 5813]"
            ]
          },
          "metadata": {},
          "execution_count": 30
        }
      ],
      "source": [
        "list(edge_list[i][2].values())"
      ]
    },
    {
      "cell_type": "markdown",
      "metadata": {
        "id": "Ks9Jktn-69Rt"
      },
      "source": [
        "We define a PyTorch neural network model called \"FraudGNN\" which is a type of Graph Neural Network. The model is a simple feedforward neural network with two fully connected (Linear) layers. The first layer has input_dim number of input units and hidden_dim number of output units, while the second layer has hidden_dim number of input units and 1 output unit.\n",
        "The forward function of the model applies the linear layers to the input tensor \"x\" and applies a ReLU activation function to the output of the first linear layer.\n",
        "\n",
        "We also prepare data for input into the model. We define the variable \"edge_list\" which is a list of edges and their associated data in a graph G. Then we create an empty list called \"x\" and iterates over each edge in the edge_list. For each edge, it extracts the values of the edge data, converts them to floats if needed, and append them to the list \"x\". Finally, we convert the list \"x\" to a PyTorch tensor with float datatype, which is ready to be input into the FraudGNN model."
      ]
    },
    {
      "cell_type": "code",
      "execution_count": 31,
      "metadata": {
        "execution": {
          "iopub.execute_input": "2023-01-16T21:22:49.199526Z",
          "iopub.status.busy": "2023-01-16T21:22:49.199098Z",
          "iopub.status.idle": "2023-01-16T21:22:50.703386Z",
          "shell.execute_reply": "2023-01-16T21:22:50.702210Z",
          "shell.execute_reply.started": "2023-01-16T21:22:49.199494Z"
        },
        "id": "zvMKFFKD69Rv"
      },
      "outputs": [],
      "source": [
        "class FraudGNN(nn.Module):\n",
        "    def __init__(self, input_dim, hidden_dim):\n",
        "        super(FraudGNN, self).__init__()\n",
        "        self.fc1 = nn.Linear(input_dim, hidden_dim)\n",
        "        self.fc2 = nn.Linear(hidden_dim, 1)\n",
        "        \n",
        "    def forward(self, x):\n",
        "        x = self.fc1(x)\n",
        "        x = F.relu(x)\n",
        "        x = self.fc2(x)\n",
        "        return x.squeeze(-1)\n",
        "\n",
        "# Prepare the data for input into the model\n",
        "edge_list = list(G.edges(data=True))\n",
        "x = []\n",
        "for edge in edge_list:\n",
        "    edge_values = list(edge[2].values())\n",
        "    edge_values = [float(i[0]) if type(i) == tuple and type(i[0]) == str else i[0] if type(i) == tuple else i for i in edge_values]\n",
        "    x.append(edge_values)\n",
        "x = torch.tensor(x, dtype=torch.float)"
      ]
    },
    {
      "cell_type": "code",
      "execution_count": 32,
      "metadata": {
        "execution": {
          "iopub.execute_input": "2023-01-16T21:22:52.214265Z",
          "iopub.status.busy": "2023-01-16T21:22:52.213847Z",
          "iopub.status.idle": "2023-01-16T21:22:52.220759Z",
          "shell.execute_reply": "2023-01-16T21:22:52.219048Z",
          "shell.execute_reply.started": "2023-01-16T21:22:52.214232Z"
        },
        "id": "XrLCpCTl69Rw"
      },
      "outputs": [],
      "source": [
        "target = torch.tensor(df['Is Fraud?'].values, dtype=torch.float)"
      ]
    },
    {
      "cell_type": "code",
      "execution_count": 33,
      "metadata": {
        "execution": {
          "iopub.execute_input": "2023-01-16T21:22:55.479953Z",
          "iopub.status.busy": "2023-01-16T21:22:55.479572Z",
          "iopub.status.idle": "2023-01-16T21:22:55.486403Z",
          "shell.execute_reply": "2023-01-16T21:22:55.485519Z",
          "shell.execute_reply.started": "2023-01-16T21:22:55.479922Z"
        },
        "id": "KOLd6nTj69Rx"
      },
      "outputs": [],
      "source": [
        "# Define the model\n",
        "input_dim = len(x[0])\n",
        "hidden_dim = 16\n",
        "model = FraudGNN(input_dim, hidden_dim)\n",
        "num_epochs=201\n",
        "\n",
        "# Define the loss function and optimizer\n",
        "criterion = nn.BCEWithLogitsLoss()\n",
        "optimizer = torch.optim.Adam(model.parameters(), lr=0.01)"
      ]
    },
    {
      "cell_type": "code",
      "execution_count": 34,
      "metadata": {
        "execution": {
          "iopub.execute_input": "2023-01-16T21:22:58.153084Z",
          "iopub.status.busy": "2023-01-16T21:22:58.151218Z",
          "iopub.status.idle": "2023-01-16T21:23:02.723745Z",
          "shell.execute_reply": "2023-01-16T21:23:02.722551Z",
          "shell.execute_reply.started": "2023-01-16T21:22:58.153021Z"
        },
        "id": "TFX5Xu7q69Ry",
        "colab": {
          "base_uri": "https://localhost:8080/"
        },
        "outputId": "5761d76a-bc06-4195-8ca4-ef0c12b45ebc"
      },
      "outputs": [
        {
          "output_type": "stream",
          "name": "stdout",
          "text": [
            "Epoch: 0, Loss: 0.9820557236671448\n",
            "Epoch: 20, Loss: 0.26553839445114136\n",
            "Epoch: 40, Loss: 0.16277578473091125\n",
            "Epoch: 60, Loss: 0.4631139934062958\n",
            "Epoch: 80, Loss: 0.2966057360172272\n",
            "Epoch: 100, Loss: 0.1356242448091507\n",
            "Epoch: 120, Loss: 0.07443394511938095\n",
            "Epoch: 140, Loss: 0.040048617869615555\n",
            "Epoch: 160, Loss: 0.021456297487020493\n",
            "Epoch: 180, Loss: 0.014297224581241608\n",
            "Epoch: 200, Loss: 0.012266265228390694\n"
          ]
        }
      ],
      "source": [
        "# Train the model\n",
        "result = {\n",
        "    'epochs':[],\n",
        "    'loss':[]\n",
        "}\n",
        "for i in range(num_epochs):\n",
        "    # Forward pass\n",
        "    output = model(x)\n",
        "    # Compute the loss\n",
        "    loss = criterion(output, target)\n",
        "    if i % 20 == 0:\n",
        "        print(f'Epoch: {i}, Loss: {loss.item()}')\n",
        "        result.get('epochs').append(i)\n",
        "        result.get('loss').append(loss.item())\n",
        "    # Zero the gradients\n",
        "    optimizer.zero_grad()\n",
        "    # Perform backpropagation\n",
        "    loss.backward()\n",
        "    # Update the parameters\n",
        "    optimizer.step()"
      ]
    },
    {
      "cell_type": "code",
      "source": [
        "import joblib"
      ],
      "metadata": {
        "id": "AeZ_qcmL8TmH"
      },
      "execution_count": 35,
      "outputs": []
    },
    {
      "cell_type": "code",
      "source": [
        "joblib.dump(model,'/content/drive/MyDrive/Fraudster/transaction/gnn_model_1.joblib')"
      ],
      "metadata": {
        "id": "W3pEnymD-RXv",
        "colab": {
          "base_uri": "https://localhost:8080/"
        },
        "outputId": "5eecadd4-319e-4dc6-8d99-ca409b520e70"
      },
      "execution_count": 36,
      "outputs": [
        {
          "output_type": "execute_result",
          "data": {
            "text/plain": [
              "['/content/drive/MyDrive/Fraudster/transaction/gnn_model_1.joblib']"
            ]
          },
          "metadata": {},
          "execution_count": 36
        }
      ]
    },
    {
      "cell_type": "code",
      "source": [
        "output"
      ],
      "metadata": {
        "id": "f1bMef0r-ocr",
        "colab": {
          "base_uri": "https://localhost:8080/"
        },
        "outputId": "aac5a334-f92f-4a9d-b47c-6d9bb5391bad"
      },
      "execution_count": 37,
      "outputs": [
        {
          "output_type": "execute_result",
          "data": {
            "text/plain": [
              "tensor([-5.7347, -5.6311, -5.7639,  ..., -8.5864, -7.9158, -6.4715],\n",
              "       grad_fn=<SqueezeBackward1>)"
            ]
          },
          "metadata": {},
          "execution_count": 37
        }
      ]
    },
    {
      "cell_type": "code",
      "source": [],
      "metadata": {
        "id": "7wg7JZft-uVp"
      },
      "execution_count": 37,
      "outputs": []
    }
  ],
  "metadata": {
    "kernelspec": {
      "display_name": "Python 3 (ipykernel)",
      "language": "python",
      "name": "python3"
    },
    "language_info": {
      "codemirror_mode": {
        "name": "ipython",
        "version": 3
      },
      "file_extension": ".py",
      "mimetype": "text/x-python",
      "name": "python",
      "nbconvert_exporter": "python",
      "pygments_lexer": "ipython3",
      "version": "3.10.4"
    },
    "colab": {
      "provenance": [],
      "toc_visible": true
    }
  },
  "nbformat": 4,
  "nbformat_minor": 0
}